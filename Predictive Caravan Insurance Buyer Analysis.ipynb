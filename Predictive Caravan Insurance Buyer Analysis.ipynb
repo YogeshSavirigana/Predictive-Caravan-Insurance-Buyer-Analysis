{
  "cells": [
    {
      "cell_type": "markdown",
      "metadata": {
        "id": "tLBnl6uNdW4V"
      },
      "source": [
        "### **Steps that we have followed in this notebook**"
      ]
    },
    {
      "cell_type": "markdown",
      "metadata": {
        "id": "c9pJvjDScxR4"
      },
      "source": [
        "1. Understanding the Problem Statement & Import Packages and Datasets.\n",
        "\n",
        "2. Perform EDA (Exploratory Data Analysis)\n",
        "\n",
        "3. Generating hypothesis and deriving insights from it (using EDA).\n",
        "\n",
        "4. Explore the entire Data and get to know what each Column / Feature denotes.\n",
        "\n",
        "5. Addressing Imbalance of Target Column in Dataset.\n",
        "\n",
        "6. Split Entire Data set into Train and Validation Data with Predictors(Independent) & Target(Dependent).\n",
        "\n",
        "7. We performed Data Scaling using StandardScaler\n",
        "\n",
        "8. Create various ML Models for Binary Class Classification Problem\n",
        "\n",
        "9. Improve ML Model,Fine Tune with MODEL Evaluation METRIC - \"Recall\" and Predict Traget \"CARAVAN\"\n",
        "\n",
        "10. Comparing model predicted values with the target data set.\n",
        "\n",
        "11. Results, Analyis and Conclusion using our evaluation metric \"Recall\" Score"
      ]
    },
    {
      "cell_type": "markdown",
      "metadata": {
        "id": "2GjFIeQ7ee3T"
      },
      "source": [
        "### **Step1: Import all required libraries**"
      ]
    },
    {
      "cell_type": "code",
      "execution_count": null,
      "metadata": {
        "id": "IL9YOYpwOxaj"
      },
      "outputs": [],
      "source": [
        "# import packages\n",
        "import pandas as pd\n",
        "import numpy as np\n",
        "from sklearn.model_selection import train_test_split\n",
        "from sklearn.tree import DecisionTreeClassifier\n",
        "from xgboost import XGBClassifier\n",
        "from sklearn.ensemble import RandomForestClassifier, GradientBoostingClassifier, AdaBoostClassifier\n",
        "from sklearn.metrics import classification_report, confusion_matrix\n",
        "\n",
        "from sklearn.metrics import confusion_matrix, accuracy_score, precision_score, recall_score, f1_score\n",
        "from sklearn.model_selection import GridSearchCV, RandomizedSearchCV\n",
        "from sklearn.model_selection import RepeatedStratifiedKFold\n",
        "from xgboost import XGBClassifier\n",
        "import matplotlib.pyplot as plt\n",
        "import seaborn as sns\n",
        "from sklearn.utils import resample\n",
        "from sklearn.linear_model import LogisticRegression\n",
        "from sklearn import preprocessing\n",
        "from sklearn.neighbors import KNeighborsClassifier\n",
        "\n",
        "import warnings\n",
        "warnings.filterwarnings('ignore')"
      ]
    },
    {
      "cell_type": "markdown",
      "metadata": {
        "id": "IZrOUgffnf51"
      },
      "source": [
        "### **Uploading train data set**"
      ]
    },
    {
      "cell_type": "code",
      "execution_count": null,
      "metadata": {
        "colab": {
          "base_uri": "https://localhost:8080/",
          "height": 73
        },
        "id": "kaP-O-1LO2Uu",
        "outputId": "6c7538ae-7d4d-400d-db02-33767764e2f7"
      },
      "outputs": [
        {
          "data": {
            "text/html": [
              "\n",
              "     <input type=\"file\" id=\"files-c368959a-fbb8-4c9b-ad2f-6c4528de1c65\" name=\"files[]\" multiple disabled\n",
              "        style=\"border:none\" />\n",
              "     <output id=\"result-c368959a-fbb8-4c9b-ad2f-6c4528de1c65\">\n",
              "      Upload widget is only available when the cell has been executed in the\n",
              "      current browser session. Please rerun this cell to enable.\n",
              "      </output>\n",
              "      <script>// Copyright 2017 Google LLC\n",
              "//\n",
              "// Licensed under the Apache License, Version 2.0 (the \"License\");\n",
              "// you may not use this file except in compliance with the License.\n",
              "// You may obtain a copy of the License at\n",
              "//\n",
              "//      http://www.apache.org/licenses/LICENSE-2.0\n",
              "//\n",
              "// Unless required by applicable law or agreed to in writing, software\n",
              "// distributed under the License is distributed on an \"AS IS\" BASIS,\n",
              "// WITHOUT WARRANTIES OR CONDITIONS OF ANY KIND, either express or implied.\n",
              "// See the License for the specific language governing permissions and\n",
              "// limitations under the License.\n",
              "\n",
              "/**\n",
              " * @fileoverview Helpers for google.colab Python module.\n",
              " */\n",
              "(function(scope) {\n",
              "function span(text, styleAttributes = {}) {\n",
              "  const element = document.createElement('span');\n",
              "  element.textContent = text;\n",
              "  for (const key of Object.keys(styleAttributes)) {\n",
              "    element.style[key] = styleAttributes[key];\n",
              "  }\n",
              "  return element;\n",
              "}\n",
              "\n",
              "// Max number of bytes which will be uploaded at a time.\n",
              "const MAX_PAYLOAD_SIZE = 100 * 1024;\n",
              "\n",
              "function _uploadFiles(inputId, outputId) {\n",
              "  const steps = uploadFilesStep(inputId, outputId);\n",
              "  const outputElement = document.getElementById(outputId);\n",
              "  // Cache steps on the outputElement to make it available for the next call\n",
              "  // to uploadFilesContinue from Python.\n",
              "  outputElement.steps = steps;\n",
              "\n",
              "  return _uploadFilesContinue(outputId);\n",
              "}\n",
              "\n",
              "// This is roughly an async generator (not supported in the browser yet),\n",
              "// where there are multiple asynchronous steps and the Python side is going\n",
              "// to poll for completion of each step.\n",
              "// This uses a Promise to block the python side on completion of each step,\n",
              "// then passes the result of the previous step as the input to the next step.\n",
              "function _uploadFilesContinue(outputId) {\n",
              "  const outputElement = document.getElementById(outputId);\n",
              "  const steps = outputElement.steps;\n",
              "\n",
              "  const next = steps.next(outputElement.lastPromiseValue);\n",
              "  return Promise.resolve(next.value.promise).then((value) => {\n",
              "    // Cache the last promise value to make it available to the next\n",
              "    // step of the generator.\n",
              "    outputElement.lastPromiseValue = value;\n",
              "    return next.value.response;\n",
              "  });\n",
              "}\n",
              "\n",
              "/**\n",
              " * Generator function which is called between each async step of the upload\n",
              " * process.\n",
              " * @param {string} inputId Element ID of the input file picker element.\n",
              " * @param {string} outputId Element ID of the output display.\n",
              " * @return {!Iterable<!Object>} Iterable of next steps.\n",
              " */\n",
              "function* uploadFilesStep(inputId, outputId) {\n",
              "  const inputElement = document.getElementById(inputId);\n",
              "  inputElement.disabled = false;\n",
              "\n",
              "  const outputElement = document.getElementById(outputId);\n",
              "  outputElement.innerHTML = '';\n",
              "\n",
              "  const pickedPromise = new Promise((resolve) => {\n",
              "    inputElement.addEventListener('change', (e) => {\n",
              "      resolve(e.target.files);\n",
              "    });\n",
              "  });\n",
              "\n",
              "  const cancel = document.createElement('button');\n",
              "  inputElement.parentElement.appendChild(cancel);\n",
              "  cancel.textContent = 'Cancel upload';\n",
              "  const cancelPromise = new Promise((resolve) => {\n",
              "    cancel.onclick = () => {\n",
              "      resolve(null);\n",
              "    };\n",
              "  });\n",
              "\n",
              "  // Wait for the user to pick the files.\n",
              "  const files = yield {\n",
              "    promise: Promise.race([pickedPromise, cancelPromise]),\n",
              "    response: {\n",
              "      action: 'starting',\n",
              "    }\n",
              "  };\n",
              "\n",
              "  cancel.remove();\n",
              "\n",
              "  // Disable the input element since further picks are not allowed.\n",
              "  inputElement.disabled = true;\n",
              "\n",
              "  if (!files) {\n",
              "    return {\n",
              "      response: {\n",
              "        action: 'complete',\n",
              "      }\n",
              "    };\n",
              "  }\n",
              "\n",
              "  for (const file of files) {\n",
              "    const li = document.createElement('li');\n",
              "    li.append(span(file.name, {fontWeight: 'bold'}));\n",
              "    li.append(span(\n",
              "        `(${file.type || 'n/a'}) - ${file.size} bytes, ` +\n",
              "        `last modified: ${\n",
              "            file.lastModifiedDate ? file.lastModifiedDate.toLocaleDateString() :\n",
              "                                    'n/a'} - `));\n",
              "    const percent = span('0% done');\n",
              "    li.appendChild(percent);\n",
              "\n",
              "    outputElement.appendChild(li);\n",
              "\n",
              "    const fileDataPromise = new Promise((resolve) => {\n",
              "      const reader = new FileReader();\n",
              "      reader.onload = (e) => {\n",
              "        resolve(e.target.result);\n",
              "      };\n",
              "      reader.readAsArrayBuffer(file);\n",
              "    });\n",
              "    // Wait for the data to be ready.\n",
              "    let fileData = yield {\n",
              "      promise: fileDataPromise,\n",
              "      response: {\n",
              "        action: 'continue',\n",
              "      }\n",
              "    };\n",
              "\n",
              "    // Use a chunked sending to avoid message size limits. See b/62115660.\n",
              "    let position = 0;\n",
              "    do {\n",
              "      const length = Math.min(fileData.byteLength - position, MAX_PAYLOAD_SIZE);\n",
              "      const chunk = new Uint8Array(fileData, position, length);\n",
              "      position += length;\n",
              "\n",
              "      const base64 = btoa(String.fromCharCode.apply(null, chunk));\n",
              "      yield {\n",
              "        response: {\n",
              "          action: 'append',\n",
              "          file: file.name,\n",
              "          data: base64,\n",
              "        },\n",
              "      };\n",
              "\n",
              "      let percentDone = fileData.byteLength === 0 ?\n",
              "          100 :\n",
              "          Math.round((position / fileData.byteLength) * 100);\n",
              "      percent.textContent = `${percentDone}% done`;\n",
              "\n",
              "    } while (position < fileData.byteLength);\n",
              "  }\n",
              "\n",
              "  // All done.\n",
              "  yield {\n",
              "    response: {\n",
              "      action: 'complete',\n",
              "    }\n",
              "  };\n",
              "}\n",
              "\n",
              "scope.google = scope.google || {};\n",
              "scope.google.colab = scope.google.colab || {};\n",
              "scope.google.colab._files = {\n",
              "  _uploadFiles,\n",
              "  _uploadFilesContinue,\n",
              "};\n",
              "})(self);\n",
              "</script> "
            ],
            "text/plain": [
              "<IPython.core.display.HTML object>"
            ]
          },
          "metadata": {},
          "output_type": "display_data"
        },
        {
          "name": "stdout",
          "output_type": "stream",
          "text": [
            "Saving tic_2000_train_data.csv to tic_2000_train_data.csv\n"
          ]
        }
      ],
      "source": [
        "from google.colab import files\n",
        "uploaded_train = files.upload()"
      ]
    },
    {
      "cell_type": "code",
      "execution_count": null,
      "metadata": {
        "id": "bgBGEcThpmVv"
      },
      "outputs": [],
      "source": [
        "import io\n",
        "train_data = pd.read_csv(io.BytesIO(uploaded_train['tic_2000_train_data.csv']))"
      ]
    },
    {
      "cell_type": "markdown",
      "metadata": {
        "id": "rdij4uWLpKez"
      },
      "source": [
        "### **Uploading test data set**"
      ]
    },
    {
      "cell_type": "code",
      "execution_count": null,
      "metadata": {
        "colab": {
          "base_uri": "https://localhost:8080/",
          "height": 73
        },
        "id": "XjFLz-Q7osJr",
        "outputId": "db724171-5a83-47f9-85e9-9deb48dd4249"
      },
      "outputs": [
        {
          "data": {
            "text/html": [
              "\n",
              "     <input type=\"file\" id=\"files-eb40438f-438a-42ab-ab18-57da928c98ee\" name=\"files[]\" multiple disabled\n",
              "        style=\"border:none\" />\n",
              "     <output id=\"result-eb40438f-438a-42ab-ab18-57da928c98ee\">\n",
              "      Upload widget is only available when the cell has been executed in the\n",
              "      current browser session. Please rerun this cell to enable.\n",
              "      </output>\n",
              "      <script>// Copyright 2017 Google LLC\n",
              "//\n",
              "// Licensed under the Apache License, Version 2.0 (the \"License\");\n",
              "// you may not use this file except in compliance with the License.\n",
              "// You may obtain a copy of the License at\n",
              "//\n",
              "//      http://www.apache.org/licenses/LICENSE-2.0\n",
              "//\n",
              "// Unless required by applicable law or agreed to in writing, software\n",
              "// distributed under the License is distributed on an \"AS IS\" BASIS,\n",
              "// WITHOUT WARRANTIES OR CONDITIONS OF ANY KIND, either express or implied.\n",
              "// See the License for the specific language governing permissions and\n",
              "// limitations under the License.\n",
              "\n",
              "/**\n",
              " * @fileoverview Helpers for google.colab Python module.\n",
              " */\n",
              "(function(scope) {\n",
              "function span(text, styleAttributes = {}) {\n",
              "  const element = document.createElement('span');\n",
              "  element.textContent = text;\n",
              "  for (const key of Object.keys(styleAttributes)) {\n",
              "    element.style[key] = styleAttributes[key];\n",
              "  }\n",
              "  return element;\n",
              "}\n",
              "\n",
              "// Max number of bytes which will be uploaded at a time.\n",
              "const MAX_PAYLOAD_SIZE = 100 * 1024;\n",
              "\n",
              "function _uploadFiles(inputId, outputId) {\n",
              "  const steps = uploadFilesStep(inputId, outputId);\n",
              "  const outputElement = document.getElementById(outputId);\n",
              "  // Cache steps on the outputElement to make it available for the next call\n",
              "  // to uploadFilesContinue from Python.\n",
              "  outputElement.steps = steps;\n",
              "\n",
              "  return _uploadFilesContinue(outputId);\n",
              "}\n",
              "\n",
              "// This is roughly an async generator (not supported in the browser yet),\n",
              "// where there are multiple asynchronous steps and the Python side is going\n",
              "// to poll for completion of each step.\n",
              "// This uses a Promise to block the python side on completion of each step,\n",
              "// then passes the result of the previous step as the input to the next step.\n",
              "function _uploadFilesContinue(outputId) {\n",
              "  const outputElement = document.getElementById(outputId);\n",
              "  const steps = outputElement.steps;\n",
              "\n",
              "  const next = steps.next(outputElement.lastPromiseValue);\n",
              "  return Promise.resolve(next.value.promise).then((value) => {\n",
              "    // Cache the last promise value to make it available to the next\n",
              "    // step of the generator.\n",
              "    outputElement.lastPromiseValue = value;\n",
              "    return next.value.response;\n",
              "  });\n",
              "}\n",
              "\n",
              "/**\n",
              " * Generator function which is called between each async step of the upload\n",
              " * process.\n",
              " * @param {string} inputId Element ID of the input file picker element.\n",
              " * @param {string} outputId Element ID of the output display.\n",
              " * @return {!Iterable<!Object>} Iterable of next steps.\n",
              " */\n",
              "function* uploadFilesStep(inputId, outputId) {\n",
              "  const inputElement = document.getElementById(inputId);\n",
              "  inputElement.disabled = false;\n",
              "\n",
              "  const outputElement = document.getElementById(outputId);\n",
              "  outputElement.innerHTML = '';\n",
              "\n",
              "  const pickedPromise = new Promise((resolve) => {\n",
              "    inputElement.addEventListener('change', (e) => {\n",
              "      resolve(e.target.files);\n",
              "    });\n",
              "  });\n",
              "\n",
              "  const cancel = document.createElement('button');\n",
              "  inputElement.parentElement.appendChild(cancel);\n",
              "  cancel.textContent = 'Cancel upload';\n",
              "  const cancelPromise = new Promise((resolve) => {\n",
              "    cancel.onclick = () => {\n",
              "      resolve(null);\n",
              "    };\n",
              "  });\n",
              "\n",
              "  // Wait for the user to pick the files.\n",
              "  const files = yield {\n",
              "    promise: Promise.race([pickedPromise, cancelPromise]),\n",
              "    response: {\n",
              "      action: 'starting',\n",
              "    }\n",
              "  };\n",
              "\n",
              "  cancel.remove();\n",
              "\n",
              "  // Disable the input element since further picks are not allowed.\n",
              "  inputElement.disabled = true;\n",
              "\n",
              "  if (!files) {\n",
              "    return {\n",
              "      response: {\n",
              "        action: 'complete',\n",
              "      }\n",
              "    };\n",
              "  }\n",
              "\n",
              "  for (const file of files) {\n",
              "    const li = document.createElement('li');\n",
              "    li.append(span(file.name, {fontWeight: 'bold'}));\n",
              "    li.append(span(\n",
              "        `(${file.type || 'n/a'}) - ${file.size} bytes, ` +\n",
              "        `last modified: ${\n",
              "            file.lastModifiedDate ? file.lastModifiedDate.toLocaleDateString() :\n",
              "                                    'n/a'} - `));\n",
              "    const percent = span('0% done');\n",
              "    li.appendChild(percent);\n",
              "\n",
              "    outputElement.appendChild(li);\n",
              "\n",
              "    const fileDataPromise = new Promise((resolve) => {\n",
              "      const reader = new FileReader();\n",
              "      reader.onload = (e) => {\n",
              "        resolve(e.target.result);\n",
              "      };\n",
              "      reader.readAsArrayBuffer(file);\n",
              "    });\n",
              "    // Wait for the data to be ready.\n",
              "    let fileData = yield {\n",
              "      promise: fileDataPromise,\n",
              "      response: {\n",
              "        action: 'continue',\n",
              "      }\n",
              "    };\n",
              "\n",
              "    // Use a chunked sending to avoid message size limits. See b/62115660.\n",
              "    let position = 0;\n",
              "    do {\n",
              "      const length = Math.min(fileData.byteLength - position, MAX_PAYLOAD_SIZE);\n",
              "      const chunk = new Uint8Array(fileData, position, length);\n",
              "      position += length;\n",
              "\n",
              "      const base64 = btoa(String.fromCharCode.apply(null, chunk));\n",
              "      yield {\n",
              "        response: {\n",
              "          action: 'append',\n",
              "          file: file.name,\n",
              "          data: base64,\n",
              "        },\n",
              "      };\n",
              "\n",
              "      let percentDone = fileData.byteLength === 0 ?\n",
              "          100 :\n",
              "          Math.round((position / fileData.byteLength) * 100);\n",
              "      percent.textContent = `${percentDone}% done`;\n",
              "\n",
              "    } while (position < fileData.byteLength);\n",
              "  }\n",
              "\n",
              "  // All done.\n",
              "  yield {\n",
              "    response: {\n",
              "      action: 'complete',\n",
              "    }\n",
              "  };\n",
              "}\n",
              "\n",
              "scope.google = scope.google || {};\n",
              "scope.google.colab = scope.google.colab || {};\n",
              "scope.google.colab._files = {\n",
              "  _uploadFiles,\n",
              "  _uploadFilesContinue,\n",
              "};\n",
              "})(self);\n",
              "</script> "
            ],
            "text/plain": [
              "<IPython.core.display.HTML object>"
            ]
          },
          "metadata": {},
          "output_type": "display_data"
        },
        {
          "name": "stdout",
          "output_type": "stream",
          "text": [
            "Saving tic_2000_eval_data.csv to tic_2000_eval_data.csv\n"
          ]
        }
      ],
      "source": [
        "from google.colab import files\n",
        "uploaded_test = files.upload()"
      ]
    },
    {
      "cell_type": "code",
      "execution_count": null,
      "metadata": {
        "id": "R8MFWEnXpXwf"
      },
      "outputs": [],
      "source": [
        "import io\n",
        "test_data = pd.read_csv(io.BytesIO(uploaded_test['tic_2000_eval_data.csv']))"
      ]
    },
    {
      "cell_type": "markdown",
      "metadata": {
        "id": "DTv0zxKXpRXQ"
      },
      "source": [
        "### **Uploading evaluation data set**"
      ]
    },
    {
      "cell_type": "code",
      "execution_count": null,
      "metadata": {
        "colab": {
          "base_uri": "https://localhost:8080/",
          "height": 73
        },
        "id": "5Y3Jl72Rov8R",
        "outputId": "8392813f-648d-460e-8b64-535d84605cb0"
      },
      "outputs": [
        {
          "data": {
            "text/html": [
              "\n",
              "     <input type=\"file\" id=\"files-fd0d44ec-a7a8-4ac2-adfa-1aa659d4d307\" name=\"files[]\" multiple disabled\n",
              "        style=\"border:none\" />\n",
              "     <output id=\"result-fd0d44ec-a7a8-4ac2-adfa-1aa659d4d307\">\n",
              "      Upload widget is only available when the cell has been executed in the\n",
              "      current browser session. Please rerun this cell to enable.\n",
              "      </output>\n",
              "      <script>// Copyright 2017 Google LLC\n",
              "//\n",
              "// Licensed under the Apache License, Version 2.0 (the \"License\");\n",
              "// you may not use this file except in compliance with the License.\n",
              "// You may obtain a copy of the License at\n",
              "//\n",
              "//      http://www.apache.org/licenses/LICENSE-2.0\n",
              "//\n",
              "// Unless required by applicable law or agreed to in writing, software\n",
              "// distributed under the License is distributed on an \"AS IS\" BASIS,\n",
              "// WITHOUT WARRANTIES OR CONDITIONS OF ANY KIND, either express or implied.\n",
              "// See the License for the specific language governing permissions and\n",
              "// limitations under the License.\n",
              "\n",
              "/**\n",
              " * @fileoverview Helpers for google.colab Python module.\n",
              " */\n",
              "(function(scope) {\n",
              "function span(text, styleAttributes = {}) {\n",
              "  const element = document.createElement('span');\n",
              "  element.textContent = text;\n",
              "  for (const key of Object.keys(styleAttributes)) {\n",
              "    element.style[key] = styleAttributes[key];\n",
              "  }\n",
              "  return element;\n",
              "}\n",
              "\n",
              "// Max number of bytes which will be uploaded at a time.\n",
              "const MAX_PAYLOAD_SIZE = 100 * 1024;\n",
              "\n",
              "function _uploadFiles(inputId, outputId) {\n",
              "  const steps = uploadFilesStep(inputId, outputId);\n",
              "  const outputElement = document.getElementById(outputId);\n",
              "  // Cache steps on the outputElement to make it available for the next call\n",
              "  // to uploadFilesContinue from Python.\n",
              "  outputElement.steps = steps;\n",
              "\n",
              "  return _uploadFilesContinue(outputId);\n",
              "}\n",
              "\n",
              "// This is roughly an async generator (not supported in the browser yet),\n",
              "// where there are multiple asynchronous steps and the Python side is going\n",
              "// to poll for completion of each step.\n",
              "// This uses a Promise to block the python side on completion of each step,\n",
              "// then passes the result of the previous step as the input to the next step.\n",
              "function _uploadFilesContinue(outputId) {\n",
              "  const outputElement = document.getElementById(outputId);\n",
              "  const steps = outputElement.steps;\n",
              "\n",
              "  const next = steps.next(outputElement.lastPromiseValue);\n",
              "  return Promise.resolve(next.value.promise).then((value) => {\n",
              "    // Cache the last promise value to make it available to the next\n",
              "    // step of the generator.\n",
              "    outputElement.lastPromiseValue = value;\n",
              "    return next.value.response;\n",
              "  });\n",
              "}\n",
              "\n",
              "/**\n",
              " * Generator function which is called between each async step of the upload\n",
              " * process.\n",
              " * @param {string} inputId Element ID of the input file picker element.\n",
              " * @param {string} outputId Element ID of the output display.\n",
              " * @return {!Iterable<!Object>} Iterable of next steps.\n",
              " */\n",
              "function* uploadFilesStep(inputId, outputId) {\n",
              "  const inputElement = document.getElementById(inputId);\n",
              "  inputElement.disabled = false;\n",
              "\n",
              "  const outputElement = document.getElementById(outputId);\n",
              "  outputElement.innerHTML = '';\n",
              "\n",
              "  const pickedPromise = new Promise((resolve) => {\n",
              "    inputElement.addEventListener('change', (e) => {\n",
              "      resolve(e.target.files);\n",
              "    });\n",
              "  });\n",
              "\n",
              "  const cancel = document.createElement('button');\n",
              "  inputElement.parentElement.appendChild(cancel);\n",
              "  cancel.textContent = 'Cancel upload';\n",
              "  const cancelPromise = new Promise((resolve) => {\n",
              "    cancel.onclick = () => {\n",
              "      resolve(null);\n",
              "    };\n",
              "  });\n",
              "\n",
              "  // Wait for the user to pick the files.\n",
              "  const files = yield {\n",
              "    promise: Promise.race([pickedPromise, cancelPromise]),\n",
              "    response: {\n",
              "      action: 'starting',\n",
              "    }\n",
              "  };\n",
              "\n",
              "  cancel.remove();\n",
              "\n",
              "  // Disable the input element since further picks are not allowed.\n",
              "  inputElement.disabled = true;\n",
              "\n",
              "  if (!files) {\n",
              "    return {\n",
              "      response: {\n",
              "        action: 'complete',\n",
              "      }\n",
              "    };\n",
              "  }\n",
              "\n",
              "  for (const file of files) {\n",
              "    const li = document.createElement('li');\n",
              "    li.append(span(file.name, {fontWeight: 'bold'}));\n",
              "    li.append(span(\n",
              "        `(${file.type || 'n/a'}) - ${file.size} bytes, ` +\n",
              "        `last modified: ${\n",
              "            file.lastModifiedDate ? file.lastModifiedDate.toLocaleDateString() :\n",
              "                                    'n/a'} - `));\n",
              "    const percent = span('0% done');\n",
              "    li.appendChild(percent);\n",
              "\n",
              "    outputElement.appendChild(li);\n",
              "\n",
              "    const fileDataPromise = new Promise((resolve) => {\n",
              "      const reader = new FileReader();\n",
              "      reader.onload = (e) => {\n",
              "        resolve(e.target.result);\n",
              "      };\n",
              "      reader.readAsArrayBuffer(file);\n",
              "    });\n",
              "    // Wait for the data to be ready.\n",
              "    let fileData = yield {\n",
              "      promise: fileDataPromise,\n",
              "      response: {\n",
              "        action: 'continue',\n",
              "      }\n",
              "    };\n",
              "\n",
              "    // Use a chunked sending to avoid message size limits. See b/62115660.\n",
              "    let position = 0;\n",
              "    do {\n",
              "      const length = Math.min(fileData.byteLength - position, MAX_PAYLOAD_SIZE);\n",
              "      const chunk = new Uint8Array(fileData, position, length);\n",
              "      position += length;\n",
              "\n",
              "      const base64 = btoa(String.fromCharCode.apply(null, chunk));\n",
              "      yield {\n",
              "        response: {\n",
              "          action: 'append',\n",
              "          file: file.name,\n",
              "          data: base64,\n",
              "        },\n",
              "      };\n",
              "\n",
              "      let percentDone = fileData.byteLength === 0 ?\n",
              "          100 :\n",
              "          Math.round((position / fileData.byteLength) * 100);\n",
              "      percent.textContent = `${percentDone}% done`;\n",
              "\n",
              "    } while (position < fileData.byteLength);\n",
              "  }\n",
              "\n",
              "  // All done.\n",
              "  yield {\n",
              "    response: {\n",
              "      action: 'complete',\n",
              "    }\n",
              "  };\n",
              "}\n",
              "\n",
              "scope.google = scope.google || {};\n",
              "scope.google.colab = scope.google.colab || {};\n",
              "scope.google.colab._files = {\n",
              "  _uploadFiles,\n",
              "  _uploadFilesContinue,\n",
              "};\n",
              "})(self);\n",
              "</script> "
            ],
            "text/plain": [
              "<IPython.core.display.HTML object>"
            ]
          },
          "metadata": {},
          "output_type": "display_data"
        },
        {
          "name": "stdout",
          "output_type": "stream",
          "text": [
            "Saving tic_2000_target_data.csv to tic_2000_target_data.csv\n"
          ]
        }
      ],
      "source": [
        "from google.colab import files\n",
        "uploaded_eval = files.upload()"
      ]
    },
    {
      "cell_type": "code",
      "execution_count": null,
      "metadata": {
        "id": "bolmzcXTO2Wy"
      },
      "outputs": [],
      "source": [
        "import io\n",
        "target_data = pd.read_csv(io.BytesIO(uploaded_eval['tic_2000_target_data.csv']))"
      ]
    },
    {
      "cell_type": "code",
      "execution_count": null,
      "metadata": {
        "id": "vx-Tam2KN_AH"
      },
      "outputs": [],
      "source": [
        "df = train_data.copy()"
      ]
    },
    {
      "cell_type": "markdown",
      "metadata": {
        "id": "cFShQXooqDMU"
      },
      "source": [
        "### **Step2: Checking the number of rows and columns in the train data set provided**"
      ]
    },
    {
      "cell_type": "code",
      "execution_count": null,
      "metadata": {
        "colab": {
          "base_uri": "https://localhost:8080/"
        },
        "id": "I31YqTcHO2Yy",
        "outputId": "79fc5f38-a32e-49bb-edbe-6d0b1ca579c7"
      },
      "outputs": [
        {
          "name": "stdout",
          "output_type": "stream",
          "text": [
            "(5822, 86)\n"
          ]
        }
      ],
      "source": [
        "#Check Shape of Data\n",
        "print(train_data.shape)"
      ]
    },
    {
      "cell_type": "markdown",
      "metadata": {
        "id": "-b-7T_njqIWd"
      },
      "source": [
        "### **Checking for any missing values in the train data set**"
      ]
    },
    {
      "cell_type": "code",
      "execution_count": null,
      "metadata": {
        "colab": {
          "base_uri": "https://localhost:8080/"
        },
        "id": "hq6tsqe5O2as",
        "outputId": "4c8c5437-f460-47ce-f88f-a9b7d102bf3c"
      },
      "outputs": [
        {
          "data": {
            "text/plain": [
              "MOSTYPE     0\n",
              "MAANTHUI    0\n",
              "MGEMOMV     0\n",
              "MGEMLEEF    0\n",
              "MOSHOOFD    0\n",
              "           ..\n",
              "APLEZIER    0\n",
              "AFIETS      0\n",
              "AINBOED     0\n",
              "ABYSTAND    0\n",
              "CARAVAN     0\n",
              "Length: 86, dtype: int64"
            ]
          },
          "execution_count": 10,
          "metadata": {},
          "output_type": "execute_result"
        }
      ],
      "source": [
        "# Ensure there are no missing values.\n",
        "train_data.isnull().sum()"
      ]
    },
    {
      "cell_type": "markdown",
      "metadata": {
        "id": "sSglK8Y2qTsG"
      },
      "source": [
        "### **Check for Imbalance of Target Column in Datasets**"
      ]
    },
    {
      "cell_type": "code",
      "execution_count": null,
      "metadata": {
        "id": "Ro1xJChicZsc"
      },
      "outputs": [],
      "source": [
        "LABELS = [\"Not Buy Policy\",\"Buys Policy\"]"
      ]
    },
    {
      "cell_type": "markdown",
      "metadata": {
        "id": "tuR-4EdKqqgf"
      },
      "source": [
        "From the below plot, we can see that majority of the customers are not interested in buying a caravan insurance policy"
      ]
    },
    {
      "cell_type": "code",
      "execution_count": null,
      "metadata": {
        "colab": {
          "base_uri": "https://localhost:8080/",
          "height": 312
        },
        "id": "3t40maJwcZzc",
        "outputId": "8862fb6b-6c7d-45c2-bae6-fafa77eb04b6"
      },
      "outputs": [
        {
          "data": {
            "text/plain": [
              "Text(0, 0.5, 'Frequency')"
            ]
          },
          "execution_count": 150,
          "metadata": {},
          "output_type": "execute_result"
        },
        {
          "data": {
            "image/png": "[encoded data removed]",
            "text/plain": [
              "<Figure size 432x288 with 1 Axes>"
            ]
          },
          "metadata": {
            "needs_background": "light"
          },
          "output_type": "display_data"
        }
      ],
      "source": [
        "count_classes = pd.value_counts(train_data['CARAVAN'], sort = True)\n",
        "count_classes.plot(kind = 'bar', rot=0)\n",
        "plt.title(\"Caravan Policy Class Distribution\")\n",
        "plt.xticks(range(2), LABELS)\n",
        "plt.xlabel(\"Class\")\n",
        "plt.ylabel(\"Frequency\")"
      ]
    },
    {
      "cell_type": "markdown",
      "metadata": {
        "id": "PiMBwYErxUi1"
      },
      "source": [
        "### **Step 3: Generating hypothesis and deriving insights from it (using EDA).**"
      ]
    },
    {
      "cell_type": "markdown",
      "metadata": {
        "id": "_4J-NkTpNx4g"
      },
      "source": [
        "### **Cross Sell Prediction**"
      ]
    },
    {
      "cell_type": "markdown",
      "metadata": {
        "id": "w74xTzKgNnKK"
      },
      "source": [
        "As we have so many features (around 85 features) in our data, we are narrowing down our analysis using 17 fetaures by removing lower correlated features using correlation matrix and finding out their insights by generating Hypothesis and by using exploratory data analysis.\n",
        "\n",
        "Before starting the data exploration to understand the relation between the independent features it is important to focus on Hypothesis Testing\n",
        "\n",
        "**Hypothesis Testing is the first step we should take towards understanding the dataset and the business problem. The main aim of Hypothesis Testing is to give us a head-start towards understanding the problem.**\n",
        "\n",
        "We came up with the following hypothesis while thinking about the problem.\n",
        "\n",
        "**Let me state some hypotheses from our problem statement.**\n",
        "\n",
        "1. **MGEMLEEF** -- Middle Aged persons (Frome age 20 to 50yrs) would be more interested in buying insurance policy than older age customers (age > 50yrs)\n",
        "2. **ABRAND** -- Customers who purchase more fire policies tend to contribute more twoards buying caravan insurance\n",
        "3. **ABYSTAND** -- Customers who have not purchased Social security Insurance policy tend to buy Caravan Insurance\n",
        "4. **MOSHOOFD** -- Successful hedonists tend to buy insurance.\n",
        "5. **MAANTHUI** -- Customer with avg no of houses less than 2 tend to buy caravan insurance\n",
        "6. **MKOOPKLA** -- Customers who are mixed seniors tend to buy insurance\n",
        "7. **MAUTO**: -- Customers with no car tend to buy insurance"
      ]
    },
    {
      "cell_type": "markdown",
      "metadata": {
        "id": "C3rFFIDcfjfZ"
      },
      "source": [
        "### **Step 4: Explore the entire Data and get to know what each Column / Feature denotes.**"
      ]
    },
    {
      "cell_type": "markdown",
      "metadata": {
        "id": "N05Byf7wbiE0"
      },
      "source": [
        "**Analysis On MGEMLEEF(Avg. Age) Feature**\n",
        "\n",
        "**Hypothesis 1:**\n",
        "\n",
        "Middle Aged persons (Frome age 20 to 50yrs) would be more interested in buying insurance policy than older age customers (age > 50yrs)"
      ]
    },
    {
      "cell_type": "code",
      "execution_count": null,
      "metadata": {
        "colab": {
          "base_uri": "https://localhost:8080/"
        },
        "id": "Jlo5ZkBAOeAk",
        "outputId": "6b8ced3b-ab2a-40ee-c8cd-f30b17dd94de"
      },
      "outputs": [
        {
          "data": {
            "text/plain": [
              "array([2, 3, 1, 4, 5, 6])"
            ]
          },
          "execution_count": 13,
          "metadata": {},
          "output_type": "execute_result"
        }
      ],
      "source": [
        "df.MGEMLEEF.unique()"
      ]
    },
    {
      "cell_type": "code",
      "execution_count": null,
      "metadata": {
        "id": "90VxoWNdZoYD"
      },
      "outputs": [],
      "source": [
        "age = {1:\"20-30yrs\",2 :\"30-40yrs\",3: \"40-50yrs\",4 : \"50-60yrs\",5:\"60-70yrs\",6: \"70-80yrs\"}"
      ]
    },
    {
      "cell_type": "code",
      "execution_count": null,
      "metadata": {
        "id": "KJkEvL1PcYX7"
      },
      "outputs": [],
      "source": [
        "df[\"MGEMLEEF\"] = df[\"MGEMLEEF\"].map(age)"
      ]
    },
    {
      "cell_type": "markdown",
      "metadata": {
        "id": "JC083sVzd62j"
      },
      "source": [
        "**From the below graph we can Confirm our hypothesis that Customers in middle age group from (20-50yrs) of age tend to buy caravan policy than older group of customers**"
      ]
    },
    {
      "cell_type": "code",
      "execution_count": null,
      "metadata": {
        "colab": {
          "base_uri": "https://localhost:8080/",
          "height": 279
        },
        "id": "LGDLCM7Pc6fA",
        "outputId": "19c4730b-6c99-4423-99af-21ce46fa0d86"
      },
      "outputs": [
        {
          "data": {
            "image/png": "[encoded data removed]",
            "text/plain": [
              "<Figure size 432x288 with 1 Axes>"
            ]
          },
          "metadata": {
            "needs_background": "light"
          },
          "output_type": "display_data"
        }
      ],
      "source": [
        "# count plot along y axis\n",
        "sns.countplot(data=df, x=\"MGEMLEEF\", hue=\"CARAVAN\")\n",
        "\n",
        "# Show the plot\n",
        "plt.show()"
      ]
    },
    {
      "cell_type": "markdown",
      "metadata": {
        "id": "1DeclFhTwNt3"
      },
      "source": [
        "**Hypothesis 2**\n",
        "\n",
        "**ABRAND** -- Customers tend to purchase more fire policies tend to contribute more towards buying caravan insurance"
      ]
    },
    {
      "cell_type": "code",
      "execution_count": null,
      "metadata": {
        "colab": {
          "base_uri": "https://localhost:8080/"
        },
        "id": "BHoVz6u-g9qX",
        "outputId": "a6d2e685-f15d-41e7-9531-012ae2b8a29a"
      },
      "outputs": [
        {
          "data": {
            "text/plain": [
              "array([1, 0, 2, 3, 5, 4, 7])"
            ]
          },
          "execution_count": 17,
          "metadata": {},
          "output_type": "execute_result"
        }
      ],
      "source": [
        "df.ABRAND.unique()"
      ]
    },
    {
      "cell_type": "markdown",
      "metadata": {
        "id": "JGEf13cYye87"
      },
      "source": [
        "**From the below graph we can deny/reject our hypothesis and conclude that Customers who purchase only one fire policy have purchased the Caravan policy**"
      ]
    },
    {
      "cell_type": "code",
      "execution_count": null,
      "metadata": {
        "colab": {
          "base_uri": "https://localhost:8080/",
          "height": 279
        },
        "id": "zlukCXClg9tr",
        "outputId": "a8b08bc0-c934-4a28-c2af-e105c25b7411"
      },
      "outputs": [
        {
          "data": {
            "image/png": "[encoded data removed]",
            "text/plain": [
              "<Figure size 432x288 with 1 Axes>"
            ]
          },
          "metadata": {
            "needs_background": "light"
          },
          "output_type": "display_data"
        }
      ],
      "source": [
        "# count plot along y axis\n",
        "sns.countplot(data=df, x=\"ABRAND\", hue=\"CARAVAN\")\n",
        "\n",
        "# Show the plot\n",
        "plt.show()"
      ]
    },
    {
      "cell_type": "markdown",
      "metadata": {
        "id": "UFP4MuCNy53U"
      },
      "source": [
        "**Hypothesis 3**\n",
        "\n",
        "**ABYSTAND** -- Customers who have not purchased Social security Insurance policy tend to buy Caravan Insurance"
      ]
    },
    {
      "cell_type": "code",
      "execution_count": null,
      "metadata": {
        "colab": {
          "base_uri": "https://localhost:8080/"
        },
        "id": "SdzEQu4-g9wb",
        "outputId": "4ac4576e-871a-4b59-de86-79e186c9a047"
      },
      "outputs": [
        {
          "data": {
            "text/plain": [
              "array([0, 1, 2])"
            ]
          },
          "execution_count": 19,
          "metadata": {},
          "output_type": "execute_result"
        }
      ],
      "source": [
        "df.ABYSTAND.unique()"
      ]
    },
    {
      "cell_type": "markdown",
      "metadata": {
        "id": "4CDE_a6MznvG"
      },
      "source": [
        "**From the below graph we can accept our hypothesis that Customers who have not purchased social security insurance policy(0) have purchased the Caravan policy**"
      ]
    },
    {
      "cell_type": "code",
      "execution_count": null,
      "metadata": {
        "colab": {
          "base_uri": "https://localhost:8080/",
          "height": 279
        },
        "id": "m5F1AGOYg9zh",
        "outputId": "d76060e8-6f36-46c1-db73-65500d1557c4"
      },
      "outputs": [
        {
          "data": {
            "image/png": "[encoded data removed]",
            "text/plain": [
              "<Figure size 432x288 with 1 Axes>"
            ]
          },
          "metadata": {
            "needs_background": "light"
          },
          "output_type": "display_data"
        }
      ],
      "source": [
        "# count plot along y axis\n",
        "sns.countplot(data=df, x=\"ABYSTAND\", hue=\"CARAVAN\")\n",
        "\n",
        "# Show the plot\n",
        "plt.show()"
      ]
    },
    {
      "cell_type": "markdown",
      "metadata": {
        "id": "njFLzJmxz4tl"
      },
      "source": [
        "**Hypothesis 4**\n",
        "\n",
        "**MOSHOOFD** - Successful hedonists tend to buy caravan insurance policy"
      ]
    },
    {
      "cell_type": "code",
      "execution_count": null,
      "metadata": {
        "colab": {
          "base_uri": "https://localhost:8080/"
        },
        "id": "WIBWXe9Tg92D",
        "outputId": "10c3ba4a-a7f5-4d2d-b4be-cb2349864ec0"
      },
      "outputs": [
        {
          "data": {
            "text/plain": [
              "array([ 8,  3, 10,  5,  9,  7,  2,  1,  6,  4])"
            ]
          },
          "execution_count": 21,
          "metadata": {},
          "output_type": "execute_result"
        }
      ],
      "source": [
        "df.MOSHOOFD.unique()"
      ]
    },
    {
      "cell_type": "markdown",
      "metadata": {
        "id": "Kj-vcmWl1Kxc"
      },
      "source": [
        "From the below graph we can reject our hypothesis as very less number of successful hedonists tend to buy caravan policy\n",
        "\n",
        "In the above Pie chart, Customers maintype includes  10 labels. Customers belonging to  maintype 2(Driven Growers)& maintype 8(Family with grown ups)have purchase the policy"
      ]
    },
    {
      "cell_type": "code",
      "execution_count": null,
      "metadata": {
        "colab": {
          "base_uri": "https://localhost:8080/",
          "height": 279
        },
        "id": "aks0YlDd11sD",
        "outputId": "b6d3431d-d0f6-4788-f1e9-9f45c1b4a3bc"
      },
      "outputs": [
        {
          "data": {
            "image/png": "[encoded data removed]",
            "text/plain": [
              "<Figure size 432x288 with 1 Axes>"
            ]
          },
          "metadata": {
            "needs_background": "light"
          },
          "output_type": "display_data"
        }
      ],
      "source": [
        "# count plot along y axis\n",
        "sns.countplot(data=df, x=\"MOSHOOFD\", hue=\"CARAVAN\")\n",
        "\n",
        "# Show the plot\n",
        "plt.show()"
      ]
    },
    {
      "cell_type": "markdown",
      "metadata": {
        "id": "u7R5QO6_E3Bb"
      },
      "source": [
        "**Hypothesis 5**\n",
        "\n",
        "Customer with avg no of houses less than 2 tend to buy caravan insurance"
      ]
    },
    {
      "cell_type": "markdown",
      "metadata": {
        "id": "dUVkmy3VFLM2"
      },
      "source": [
        "**From below graph we can confirm our hypothesis that Customers with less than 2 houses tend to buy caravan insurance policy**"
      ]
    },
    {
      "cell_type": "code",
      "execution_count": null,
      "metadata": {
        "colab": {
          "base_uri": "https://localhost:8080/",
          "height": 279
        },
        "id": "xFcU1HOig-Cx",
        "outputId": "cdabf491-cffc-432e-ed1c-d3880b7e2a18"
      },
      "outputs": [
        {
          "data": {
            "image/png": "[encoded data removed]",
            "text/plain": [
              "<Figure size 432x288 with 1 Axes>"
            ]
          },
          "metadata": {
            "needs_background": "light"
          },
          "output_type": "display_data"
        }
      ],
      "source": [
        "# count plot along y axis\n",
        "sns.countplot(data=df, x=\"MAANTHUI\", hue=\"CARAVAN\")\n",
        "\n",
        "# Show the plot\n",
        "plt.show()"
      ]
    },
    {
      "cell_type": "markdown",
      "metadata": {
        "id": "sLNQYF8hFVjW"
      },
      "source": [
        "**Hypothesis 6**\n",
        "\n",
        "**MKOOPKLA** --  Customers who are Mixed seniors tend to buy caravan insurance policy"
      ]
    },
    {
      "cell_type": "markdown",
      "metadata": {
        "id": "G78BoAOJHRYm"
      },
      "source": [
        "We can reject our hypothesis(ie mixed seniors tend to buy insurance policy) and confirm from below plot  **3rd** purchasing class High status seniors,**7th** Dinki's (double income no kids),**6** people and Career and childcare class have Purchased the caravan policy"
      ]
    },
    {
      "cell_type": "code",
      "execution_count": null,
      "metadata": {
        "colab": {
          "base_uri": "https://localhost:8080/",
          "height": 279
        },
        "id": "oKsN5hOKg-GV",
        "outputId": "899608b3-32cb-47f6-ba00-7f41dfae22e2"
      },
      "outputs": [
        {
          "data": {
            "image/png": "[encoded data removed]",
            "text/plain": [
              "<Figure size 432x288 with 1 Axes>"
            ]
          },
          "metadata": {
            "needs_background": "light"
          },
          "output_type": "display_data"
        }
      ],
      "source": [
        "# count plot along y axis\n",
        "sns.countplot(data=df, x=\"MKOOPKLA\", hue=\"CARAVAN\")\n",
        "\n",
        "# Show the plot\n",
        "plt.show()"
      ]
    },
    {
      "cell_type": "markdown",
      "metadata": {
        "id": "XjD1FNJdIrit"
      },
      "source": [
        "**Hypothesis - 7**\n",
        "\n",
        "**PPERSAUT:** Customers who pay car policy premium averagely between 1000$-4999$  tend to buy caravan insurance policy"
      ]
    },
    {
      "cell_type": "markdown",
      "metadata": {
        "id": "hwT5hWJuJjSv"
      },
      "source": [
        "From below chart, we can confirm our Hypothesis that  Customers who pay car policy premium averagely from $1000 to $4999(6)  have purchased the Caravan policy"
      ]
    },
    {
      "cell_type": "markdown",
      "metadata": {
        "id": "KdVLNx8bA9ed"
      },
      "source": []
    },
    {
      "cell_type": "code",
      "execution_count": null,
      "metadata": {
        "id": "ORwnpx7JC9yD"
      },
      "outputs": [],
      "source": [
        "df1 = train_data.copy()"
      ]
    },
    {
      "cell_type": "code",
      "execution_count": null,
      "metadata": {
        "colab": {
          "base_uri": "https://localhost:8080/",
          "height": 279
        },
        "id": "NARiK9GNg-Kp",
        "outputId": "2ba5e0fa-8e5f-445f-9fd0-09effa7261e4"
      },
      "outputs": [
        {
          "data": {
            "image/png": "[encoded data removed]",
            "text/plain": [
              "<Figure size 432x288 with 1 Axes>"
            ]
          },
          "metadata": {
            "needs_background": "light"
          },
          "output_type": "display_data"
        }
      ],
      "source": [
        "# count plot along y axis\n",
        "sns.countplot(data=train_data, orient='h', x=\"PPERSAUT\", hue=\"CARAVAN\")\n",
        "\n",
        "# Show the plot\n",
        "plt.show()"
      ]
    },
    {
      "cell_type": "markdown",
      "metadata": {
        "id": "pHyDOoe4yIPU"
      },
      "source": [
        "### **Step 5: Addressing Imbalance of Target Column**\n"
      ]
    },
    {
      "cell_type": "markdown",
      "metadata": {
        "id": "bcNvvrGkel9z"
      },
      "source": [
        "### **Class Imbalance Using Oversampling/Upsampling**"
      ]
    },
    {
      "cell_type": "code",
      "execution_count": null,
      "metadata": {
        "id": "0IFl8kg4sAi1"
      },
      "outputs": [],
      "source": [
        "class_0 = train_data[train_data['CARAVAN']==0]\n",
        "class_1 = train_data[train_data['CARAVAN']==1]"
      ]
    },
    {
      "cell_type": "code",
      "execution_count": null,
      "metadata": {
        "colab": {
          "base_uri": "https://localhost:8080/"
        },
        "id": "Kmb-DpV_fEgG",
        "outputId": "9c034528-543a-4b82-c6e9-de3d4ced081c"
      },
      "outputs": [
        {
          "name": "stdout",
          "output_type": "stream",
          "text": [
            "(5474, 86) (348, 86)\n"
          ]
        }
      ],
      "source": [
        "print(class_0.shape,class_1.shape)"
      ]
    },
    {
      "cell_type": "markdown",
      "metadata": {
        "id": "fIkLNP4YGYLn"
      },
      "source": [
        "###**Oversampling**"
      ]
    },
    {
      "cell_type": "markdown",
      "metadata": {
        "id": "S5OspoheF9q1"
      },
      "source": [
        "In oversampling, minority class is oversampled at random or duplicate examples are added from the minority class (class1) inorder to match the majority class (class0)\n",
        "\n",
        "Here the data points are selected randomly with replacement.\n",
        "\n",
        "Now, we will be applying oversampling technique - one of the method to handle data imbalance in the data."
      ]
    },
    {
      "cell_type": "markdown",
      "metadata": {
        "id": "CLKzGT6XGAfz"
      },
      "source": [
        "### **Why to apply oversampling technique to our data ?**"
      ]
    },
    {
      "cell_type": "markdown",
      "metadata": {
        "id": "hRwfYTKoGFrh"
      },
      "source": [
        "The ability of algorithm/model is always constrained by its ability to predict rare points.So in our problem, rare points are the class1 (a customer purchased a caravan policy).So we will be resampling the minority class1 datapoints to balance with the majority class(class0)."
      ]
    },
    {
      "cell_type": "code",
      "execution_count": null,
      "metadata": {
        "id": "fUD_Gp0deCfN"
      },
      "outputs": [],
      "source": [
        "df_minority_upsampled = resample(class_1,\n",
        "                                 replace=True,     # sample with replacement\n",
        "                                 n_samples=5474,    # to match majority class\n",
        "                                 random_state=123) # reproducible results"
      ]
    },
    {
      "cell_type": "markdown",
      "metadata": {
        "id": "dGazq1N3GVLI"
      },
      "source": [
        "### **oversampling the minority data (class-1) to get more samples and make both class1 and class0 balanced**"
      ]
    },
    {
      "cell_type": "code",
      "execution_count": null,
      "metadata": {
        "colab": {
          "base_uri": "https://localhost:8080/"
        },
        "id": "CCaZbZUPfRqd",
        "outputId": "ff24724a-c340-4f06-f60f-71e7fbbac032"
      },
      "outputs": [
        {
          "name": "stdout",
          "output_type": "stream",
          "text": [
            "(10948, 86)\n"
          ]
        }
      ],
      "source": [
        "final_df = pd.concat([class_0,df_minority_upsampled])\n",
        "print(final_df.shape)"
      ]
    },
    {
      "cell_type": "code",
      "execution_count": null,
      "metadata": {
        "id": "0mZa5wKsfcTs"
      },
      "outputs": [],
      "source": [
        "X = final_df.drop(['CARAVAN'], axis=1)\n",
        "y = final_df['CARAVAN']\n",
        "\n",
        "X_train, X_test, y_train, y_test = train_test_split(X, y, test_size=0.2, random_state=0)"
      ]
    },
    {
      "cell_type": "markdown",
      "metadata": {
        "id": "yqSlbjQYGmlN"
      },
      "source": [
        "### **Checking the correlation among all the variables wrt 'CARAVAN' variable which is our Target variable**"
      ]
    },
    {
      "cell_type": "code",
      "execution_count": null,
      "metadata": {
        "colab": {
          "base_uri": "https://localhost:8080/",
          "height": 488
        },
        "id": "-XsXOxTtGlXb",
        "outputId": "85f043a2-24f9-4ad2-fbef-f77cc904530e"
      },
      "outputs": [
        {
          "data": {
            "text/html": [
              "\n",
              "  <div id=\"df-414d86d6-c532-43ed-8e4e-8f93094b3369\">\n",
              "    <div class=\"colab-df-container\">\n",
              "      <div>\n",
              "<style scoped>\n",
              "    .dataframe tbody tr th:only-of-type {\n",
              "        vertical-align: middle;\n",
              "    }\n",
              "\n",
              "    .dataframe tbody tr th {\n",
              "        vertical-align: top;\n",
              "    }\n",
              "\n",
              "    .dataframe thead th {\n",
              "        text-align: right;\n",
              "    }\n",
              "</style>\n",
              "<table border=\"1\" class=\"dataframe\">\n",
              "  <thead>\n",
              "    <tr style=\"text-align: right;\">\n",
              "      <th></th>\n",
              "      <th>MOSTYPE</th>\n",
              "      <th>MAANTHUI</th>\n",
              "      <th>MGEMOMV</th>\n",
              "      <th>MGEMLEEF</th>\n",
              "      <th>MOSHOOFD</th>\n",
              "      <th>MGODRK</th>\n",
              "      <th>MGODPR</th>\n",
              "      <th>MGODOV</th>\n",
              "      <th>MGODGE</th>\n",
              "      <th>MRELGE</th>\n",
              "      <th>...</th>\n",
              "      <th>APERSONG</th>\n",
              "      <th>AGEZONG</th>\n",
              "      <th>AWAOREG</th>\n",
              "      <th>ABRAND</th>\n",
              "      <th>AZEILPL</th>\n",
              "      <th>APLEZIER</th>\n",
              "      <th>AFIETS</th>\n",
              "      <th>AINBOED</th>\n",
              "      <th>ABYSTAND</th>\n",
              "      <th>CARAVAN</th>\n",
              "    </tr>\n",
              "  </thead>\n",
              "  <tbody>\n",
              "    <tr>\n",
              "      <th>MOSTYPE</th>\n",
              "      <td>1.000000</td>\n",
              "      <td>-0.038721</td>\n",
              "      <td>-0.021997</td>\n",
              "      <td>0.009454</td>\n",
              "      <td>0.992672</td>\n",
              "      <td>-0.193613</td>\n",
              "      <td>0.090399</td>\n",
              "      <td>-0.025642</td>\n",
              "      <td>-0.019505</td>\n",
              "      <td>-0.065596</td>\n",
              "      <td>...</td>\n",
              "      <td>0.021707</td>\n",
              "      <td>-0.012060</td>\n",
              "      <td>-0.002909</td>\n",
              "      <td>-0.011512</td>\n",
              "      <td>0.007801</td>\n",
              "      <td>-0.018162</td>\n",
              "      <td>-0.015774</td>\n",
              "      <td>-0.021087</td>\n",
              "      <td>-0.053718</td>\n",
              "      <td>-0.069385</td>\n",
              "    </tr>\n",
              "    <tr>\n",
              "      <th>MAANTHUI</th>\n",
              "      <td>-0.038721</td>\n",
              "      <td>1.000000</td>\n",
              "      <td>0.010102</td>\n",
              "      <td>0.056975</td>\n",
              "      <td>-0.045817</td>\n",
              "      <td>-0.006136</td>\n",
              "      <td>-0.024360</td>\n",
              "      <td>0.012056</td>\n",
              "      <td>0.020540</td>\n",
              "      <td>0.023025</td>\n",
              "      <td>...</td>\n",
              "      <td>0.003321</td>\n",
              "      <td>0.009444</td>\n",
              "      <td>-0.016333</td>\n",
              "      <td>0.000655</td>\n",
              "      <td>-0.006189</td>\n",
              "      <td>0.000666</td>\n",
              "      <td>-0.020993</td>\n",
              "      <td>0.018304</td>\n",
              "      <td>-0.004166</td>\n",
              "      <td>-0.009809</td>\n",
              "    </tr>\n",
              "    <tr>\n",
              "      <th>MGEMOMV</th>\n",
              "      <td>-0.021997</td>\n",
              "      <td>0.010102</td>\n",
              "      <td>1.000000</td>\n",
              "      <td>-0.328257</td>\n",
              "      <td>0.016115</td>\n",
              "      <td>0.013105</td>\n",
              "      <td>0.049356</td>\n",
              "      <td>-0.108650</td>\n",
              "      <td>-0.005527</td>\n",
              "      <td>0.534798</td>\n",
              "      <td>...</td>\n",
              "      <td>-0.000128</td>\n",
              "      <td>0.016760</td>\n",
              "      <td>0.018749</td>\n",
              "      <td>-0.009269</td>\n",
              "      <td>0.009234</td>\n",
              "      <td>0.000644</td>\n",
              "      <td>0.030330</td>\n",
              "      <td>0.025907</td>\n",
              "      <td>0.028384</td>\n",
              "      <td>0.035573</td>\n",
              "    </tr>\n",
              "    <tr>\n",
              "      <th>MGEMLEEF</th>\n",
              "      <td>0.009454</td>\n",
              "      <td>0.056975</td>\n",
              "      <td>-0.328257</td>\n",
              "      <td>1.000000</td>\n",
              "      <td>0.003872</td>\n",
              "      <td>-0.037519</td>\n",
              "      <td>0.093654</td>\n",
              "      <td>0.057737</td>\n",
              "      <td>-0.119966</td>\n",
              "      <td>-0.040384</td>\n",
              "      <td>...</td>\n",
              "      <td>0.021070</td>\n",
              "      <td>-0.001747</td>\n",
              "      <td>0.000644</td>\n",
              "      <td>0.024417</td>\n",
              "      <td>0.000244</td>\n",
              "      <td>-0.001791</td>\n",
              "      <td>0.020612</td>\n",
              "      <td>-0.020042</td>\n",
              "      <td>-0.014540</td>\n",
              "      <td>0.004491</td>\n",
              "    </tr>\n",
              "    <tr>\n",
              "      <th>MOSHOOFD</th>\n",
              "      <td>0.992672</td>\n",
              "      <td>-0.045817</td>\n",
              "      <td>0.016115</td>\n",
              "      <td>0.003872</td>\n",
              "      <td>1.000000</td>\n",
              "      <td>-0.199186</td>\n",
              "      <td>0.098493</td>\n",
              "      <td>-0.034566</td>\n",
              "      <td>-0.021466</td>\n",
              "      <td>-0.026619</td>\n",
              "      <td>...</td>\n",
              "      <td>0.023976</td>\n",
              "      <td>-0.010004</td>\n",
              "      <td>-0.002243</td>\n",
              "      <td>-0.012372</td>\n",
              "      <td>0.007099</td>\n",
              "      <td>-0.020683</td>\n",
              "      <td>-0.017990</td>\n",
              "      <td>-0.020997</td>\n",
              "      <td>-0.051723</td>\n",
              "      <td>-0.069300</td>\n",
              "    </tr>\n",
              "    <tr>\n",
              "      <th>...</th>\n",
              "      <td>...</td>\n",
              "      <td>...</td>\n",
              "      <td>...</td>\n",
              "      <td>...</td>\n",
              "      <td>...</td>\n",
              "      <td>...</td>\n",
              "      <td>...</td>\n",
              "      <td>...</td>\n",
              "      <td>...</td>\n",
              "      <td>...</td>\n",
              "      <td>...</td>\n",
              "      <td>...</td>\n",
              "      <td>...</td>\n",
              "      <td>...</td>\n",
              "      <td>...</td>\n",
              "      <td>...</td>\n",
              "      <td>...</td>\n",
              "      <td>...</td>\n",
              "      <td>...</td>\n",
              "      <td>...</td>\n",
              "      <td>...</td>\n",
              "    </tr>\n",
              "    <tr>\n",
              "      <th>APLEZIER</th>\n",
              "      <td>-0.018162</td>\n",
              "      <td>0.000666</td>\n",
              "      <td>0.000644</td>\n",
              "      <td>-0.001791</td>\n",
              "      <td>-0.020683</td>\n",
              "      <td>0.011795</td>\n",
              "      <td>0.018468</td>\n",
              "      <td>0.009417</td>\n",
              "      <td>-0.026407</td>\n",
              "      <td>-0.001566</td>\n",
              "      <td>...</td>\n",
              "      <td>0.023526</td>\n",
              "      <td>-0.005970</td>\n",
              "      <td>-0.004413</td>\n",
              "      <td>0.000177</td>\n",
              "      <td>0.091052</td>\n",
              "      <td>1.000000</td>\n",
              "      <td>-0.011093</td>\n",
              "      <td>0.040094</td>\n",
              "      <td>0.026325</td>\n",
              "      <td>0.105700</td>\n",
              "    </tr>\n",
              "    <tr>\n",
              "      <th>AFIETS</th>\n",
              "      <td>-0.015774</td>\n",
              "      <td>-0.020993</td>\n",
              "      <td>0.030330</td>\n",
              "      <td>0.020612</td>\n",
              "      <td>-0.017990</td>\n",
              "      <td>-0.001503</td>\n",
              "      <td>0.001906</td>\n",
              "      <td>0.025661</td>\n",
              "      <td>-0.011122</td>\n",
              "      <td>0.020921</td>\n",
              "      <td>...</td>\n",
              "      <td>-0.011020</td>\n",
              "      <td>0.038345</td>\n",
              "      <td>-0.009025</td>\n",
              "      <td>-0.031095</td>\n",
              "      <td>-0.003420</td>\n",
              "      <td>-0.011093</td>\n",
              "      <td>1.000000</td>\n",
              "      <td>0.004845</td>\n",
              "      <td>0.009246</td>\n",
              "      <td>0.034144</td>\n",
              "    </tr>\n",
              "    <tr>\n",
              "      <th>AINBOED</th>\n",
              "      <td>-0.021087</td>\n",
              "      <td>0.018304</td>\n",
              "      <td>0.025907</td>\n",
              "      <td>-0.020042</td>\n",
              "      <td>-0.020997</td>\n",
              "      <td>-0.011431</td>\n",
              "      <td>0.002392</td>\n",
              "      <td>-0.009734</td>\n",
              "      <td>0.007261</td>\n",
              "      <td>-0.003420</td>\n",
              "      <td>...</td>\n",
              "      <td>-0.006391</td>\n",
              "      <td>0.016501</td>\n",
              "      <td>-0.005234</td>\n",
              "      <td>0.026274</td>\n",
              "      <td>0.081689</td>\n",
              "      <td>0.040094</td>\n",
              "      <td>0.004845</td>\n",
              "      <td>1.000000</td>\n",
              "      <td>0.021273</td>\n",
              "      <td>0.018026</td>\n",
              "    </tr>\n",
              "    <tr>\n",
              "      <th>ABYSTAND</th>\n",
              "      <td>-0.053718</td>\n",
              "      <td>-0.004166</td>\n",
              "      <td>0.028384</td>\n",
              "      <td>-0.014540</td>\n",
              "      <td>-0.051723</td>\n",
              "      <td>-0.004009</td>\n",
              "      <td>0.016658</td>\n",
              "      <td>0.010127</td>\n",
              "      <td>-0.027291</td>\n",
              "      <td>0.036569</td>\n",
              "      <td>...</td>\n",
              "      <td>-0.008693</td>\n",
              "      <td>0.114810</td>\n",
              "      <td>-0.007119</td>\n",
              "      <td>0.034854</td>\n",
              "      <td>-0.002698</td>\n",
              "      <td>0.026325</td>\n",
              "      <td>0.009246</td>\n",
              "      <td>0.021273</td>\n",
              "      <td>1.000000</td>\n",
              "      <td>0.066658</td>\n",
              "    </tr>\n",
              "    <tr>\n",
              "      <th>CARAVAN</th>\n",
              "      <td>-0.069385</td>\n",
              "      <td>-0.009809</td>\n",
              "      <td>0.035573</td>\n",
              "      <td>0.004491</td>\n",
              "      <td>-0.069300</td>\n",
              "      <td>0.006225</td>\n",
              "      <td>0.032866</td>\n",
              "      <td>0.004039</td>\n",
              "      <td>-0.041707</td>\n",
              "      <td>0.070264</td>\n",
              "      <td>...</td>\n",
              "      <td>-0.008492</td>\n",
              "      <td>0.033548</td>\n",
              "      <td>0.022337</td>\n",
              "      <td>0.061381</td>\n",
              "      <td>0.026201</td>\n",
              "      <td>0.105700</td>\n",
              "      <td>0.034144</td>\n",
              "      <td>0.018026</td>\n",
              "      <td>0.066658</td>\n",
              "      <td>1.000000</td>\n",
              "    </tr>\n",
              "  </tbody>\n",
              "</table>\n",
              "<p>86 rows × 86 columns</p>\n",
              "</div>\n",
              "      <button class=\"colab-df-convert\" onclick=\"convertToInteractive('df-414d86d6-c532-43ed-8e4e-8f93094b3369')\"\n",
              "              title=\"Convert this dataframe to an interactive table.\"\n",
              "              style=\"display:none;\">\n",
              "        \n",
              "  <svg xmlns=\"http://www.w3.org/2000/svg\" height=\"24px\"viewBox=\"0 0 24 24\"\n",
              "       width=\"24px\">\n",
              "    <path d=\"M0 0h24v24H0V0z\" fill=\"none\"/>\n",
              "    <path d=\"M18.56 5.44l.94 2.06.94-2.06 2.06-.94-2.06-.94-.94-2.06-.94 2.06-2.06.94zm-11 1L8.5 8.5l.94-2.06 2.06-.94-2.06-.94L8.5 2.5l-.94 2.06-2.06.94zm10 10l.94 2.06.94-2.06 2.06-.94-2.06-.94-.94-2.06-.94 2.06-2.06.94z\"/><path d=\"M17.41 7.96l-1.37-1.37c-.4-.4-.92-.59-1.43-.59-.52 0-1.04.2-1.43.59L10.3 9.45l-7.72 7.72c-.78.78-.78 2.05 0 2.83L4 21.41c.39.39.9.59 1.41.59.51 0 1.02-.2 1.41-.59l7.78-7.78 2.81-2.81c.8-.78.8-2.07 0-2.86zM5.41 20L4 18.59l7.72-7.72 1.47 1.35L5.41 20z\"/>\n",
              "  </svg>\n",
              "      </button>\n",
              "      \n",
              "  <style>\n",
              "    .colab-df-container {\n",
              "      display:flex;\n",
              "      flex-wrap:wrap;\n",
              "      gap: 12px;\n",
              "    }\n",
              "\n",
              "    .colab-df-convert {\n",
              "      background-color: #E8F0FE;\n",
              "      border: none;\n",
              "      border-radius: 50%;\n",
              "      cursor: pointer;\n",
              "      display: none;\n",
              "      fill: #1967D2;\n",
              "      height: 32px;\n",
              "      padding: 0 0 0 0;\n",
              "      width: 32px;\n",
              "    }\n",
              "\n",
              "    .colab-df-convert:hover {\n",
              "      background-color: #E2EBFA;\n",
              "      box-shadow: 0px 1px 2px rgba(60, 64, 67, 0.3), 0px 1px 3px 1px rgba(60, 64, 67, 0.15);\n",
              "      fill: #174EA6;\n",
              "    }\n",
              "\n",
              "    [theme=dark] .colab-df-convert {\n",
              "      background-color: #3B4455;\n",
              "      fill: #D2E3FC;\n",
              "    }\n",
              "\n",
              "    [theme=dark] .colab-df-convert:hover {\n",
              "      background-color: #434B5C;\n",
              "      box-shadow: 0px 1px 3px 1px rgba(0, 0, 0, 0.15);\n",
              "      filter: drop-shadow(0px 1px 2px rgba(0, 0, 0, 0.3));\n",
              "      fill: #FFFFFF;\n",
              "    }\n",
              "  </style>\n",
              "\n",
              "      <script>\n",
              "        const buttonEl =\n",
              "          document.querySelector('#df-414d86d6-c532-43ed-8e4e-8f93094b3369 button.colab-df-convert');\n",
              "        buttonEl.style.display =\n",
              "          google.colab.kernel.accessAllowed ? 'block' : 'none';\n",
              "\n",
              "        async function convertToInteractive(key) {\n",
              "          const element = document.querySelector('#df-414d86d6-c532-43ed-8e4e-8f93094b3369');\n",
              "          const dataTable =\n",
              "            await google.colab.kernel.invokeFunction('convertToInteractive',\n",
              "                                                     [key], {});\n",
              "          if (!dataTable) return;\n",
              "\n",
              "          const docLinkHtml = 'Like what you see? Visit the ' +\n",
              "            '<a target=\"_blank\" href=https://colab.research.google.com/notebooks/data_table.ipynb>data table notebook</a>'\n",
              "            + ' to learn more about interactive tables.';\n",
              "          element.innerHTML = '';\n",
              "          dataTable['output_type'] = 'display_data';\n",
              "          await google.colab.output.renderOutput(dataTable, element);\n",
              "          const docLink = document.createElement('div');\n",
              "          docLink.innerHTML = docLinkHtml;\n",
              "          element.appendChild(docLink);\n",
              "        }\n",
              "      </script>\n",
              "    </div>\n",
              "  </div>\n",
              "  "
            ],
            "text/plain": [
              "           MOSTYPE  MAANTHUI   MGEMOMV  MGEMLEEF  MOSHOOFD    MGODRK  \\\n",
              "MOSTYPE   1.000000 -0.038721 -0.021997  0.009454  0.992672 -0.193613   \n",
              "MAANTHUI -0.038721  1.000000  0.010102  0.056975 -0.045817 -0.006136   \n",
              "MGEMOMV  -0.021997  0.010102  1.000000 -0.328257  0.016115  0.013105   \n",
              "MGEMLEEF  0.009454  0.056975 -0.328257  1.000000  0.003872 -0.037519   \n",
              "MOSHOOFD  0.992672 -0.045817  0.016115  0.003872  1.000000 -0.199186   \n",
              "...            ...       ...       ...       ...       ...       ...   \n",
              "APLEZIER -0.018162  0.000666  0.000644 -0.001791 -0.020683  0.011795   \n",
              "AFIETS   -0.015774 -0.020993  0.030330  0.020612 -0.017990 -0.001503   \n",
              "AINBOED  -0.021087  0.018304  0.025907 -0.020042 -0.020997 -0.011431   \n",
              "ABYSTAND -0.053718 -0.004166  0.028384 -0.014540 -0.051723 -0.004009   \n",
              "CARAVAN  -0.069385 -0.009809  0.035573  0.004491 -0.069300  0.006225   \n",
              "\n",
              "            MGODPR    MGODOV    MGODGE    MRELGE  ...  APERSONG   AGEZONG  \\\n",
              "MOSTYPE   0.090399 -0.025642 -0.019505 -0.065596  ...  0.021707 -0.012060   \n",
              "MAANTHUI -0.024360  0.012056  0.020540  0.023025  ...  0.003321  0.009444   \n",
              "MGEMOMV   0.049356 -0.108650 -0.005527  0.534798  ... -0.000128  0.016760   \n",
              "MGEMLEEF  0.093654  0.057737 -0.119966 -0.040384  ...  0.021070 -0.001747   \n",
              "MOSHOOFD  0.098493 -0.034566 -0.021466 -0.026619  ...  0.023976 -0.010004   \n",
              "...            ...       ...       ...       ...  ...       ...       ...   \n",
              "APLEZIER  0.018468  0.009417 -0.026407 -0.001566  ...  0.023526 -0.005970   \n",
              "AFIETS    0.001906  0.025661 -0.011122  0.020921  ... -0.011020  0.038345   \n",
              "AINBOED   0.002392 -0.009734  0.007261 -0.003420  ... -0.006391  0.016501   \n",
              "ABYSTAND  0.016658  0.010127 -0.027291  0.036569  ... -0.008693  0.114810   \n",
              "CARAVAN   0.032866  0.004039 -0.041707  0.070264  ... -0.008492  0.033548   \n",
              "\n",
              "           AWAOREG    ABRAND   AZEILPL  APLEZIER    AFIETS   AINBOED  \\\n",
              "MOSTYPE  -0.002909 -0.011512  0.007801 -0.018162 -0.015774 -0.021087   \n",
              "MAANTHUI -0.016333  0.000655 -0.006189  0.000666 -0.020993  0.018304   \n",
              "MGEMOMV   0.018749 -0.009269  0.009234  0.000644  0.030330  0.025907   \n",
              "MGEMLEEF  0.000644  0.024417  0.000244 -0.001791  0.020612 -0.020042   \n",
              "MOSHOOFD -0.002243 -0.012372  0.007099 -0.020683 -0.017990 -0.020997   \n",
              "...            ...       ...       ...       ...       ...       ...   \n",
              "APLEZIER -0.004413  0.000177  0.091052  1.000000 -0.011093  0.040094   \n",
              "AFIETS   -0.009025 -0.031095 -0.003420 -0.011093  1.000000  0.004845   \n",
              "AINBOED  -0.005234  0.026274  0.081689  0.040094  0.004845  1.000000   \n",
              "ABYSTAND -0.007119  0.034854 -0.002698  0.026325  0.009246  0.021273   \n",
              "CARAVAN   0.022337  0.061381  0.026201  0.105700  0.034144  0.018026   \n",
              "\n",
              "          ABYSTAND   CARAVAN  \n",
              "MOSTYPE  -0.053718 -0.069385  \n",
              "MAANTHUI -0.004166 -0.009809  \n",
              "MGEMOMV   0.028384  0.035573  \n",
              "MGEMLEEF -0.014540  0.004491  \n",
              "MOSHOOFD -0.051723 -0.069300  \n",
              "...            ...       ...  \n",
              "APLEZIER  0.026325  0.105700  \n",
              "AFIETS    0.009246  0.034144  \n",
              "AINBOED   0.021273  0.018026  \n",
              "ABYSTAND  1.000000  0.066658  \n",
              "CARAVAN   0.066658  1.000000  \n",
              "\n",
              "[86 rows x 86 columns]"
            ]
          },
          "execution_count": 31,
          "metadata": {},
          "output_type": "execute_result"
        }
      ],
      "source": [
        "train_data.corr()"
      ]
    },
    {
      "cell_type": "code",
      "execution_count": null,
      "metadata": {
        "colab": {
          "base_uri": "https://localhost:8080/"
        },
        "id": "05cNRcdSGlVp",
        "outputId": "55266ff0-a275-4448-d394-536705fe1465"
      },
      "outputs": [
        {
          "data": {
            "text/plain": [
              "0    5474\n",
              "1     348\n",
              "Name: CARAVAN, dtype: int64"
            ]
          },
          "execution_count": 32,
          "metadata": {},
          "output_type": "execute_result"
        }
      ],
      "source": [
        "train_data['CARAVAN'].value_counts()"
      ]
    },
    {
      "cell_type": "markdown",
      "metadata": {
        "id": "4e-R1ExIHa4i"
      },
      "source": [
        "###**Correlation Matrix**\n",
        "\n",
        "A correlation matrix is a common tool used to compare the coefficients of correlation between different features (or attributes) in a dataset.\n",
        "It allows us to visualize how much (or how little) correlation exists between different variables. This is a very important step in for our analysis as we have a very huge number of features in our data set bold text"
      ]
    },
    {
      "cell_type": "markdown",
      "metadata": {
        "id": "EJhGsOmVHGNY"
      },
      "source": [
        "Based on the correlation matrix, we can see that out of 86 features that we have, by using the correlation values, we have selected 17 features whose correlation values are either closer to +1 or -1"
      ]
    },
    {
      "cell_type": "markdown",
      "metadata": {
        "id": "-h60oGKxzMKj"
      },
      "source": [
        "### **Step 6: Split Entire Data set into Train and Validation Data with Predictors(Independent) & Target(Dependent).**"
      ]
    },
    {
      "cell_type": "markdown",
      "metadata": {
        "id": "WDTOF09Gf9bW"
      },
      "source": [
        "###**Removing Non Correlated Features and splitting the data set**"
      ]
    },
    {
      "cell_type": "markdown",
      "metadata": {
        "id": "Ai8G8SRw1HGs"
      },
      "source": [
        "Including only the most correlated features"
      ]
    },
    {
      "cell_type": "code",
      "execution_count": null,
      "metadata": {
        "id": "ykG6Rh2g1EMG"
      },
      "outputs": [],
      "source": [
        "col_knn = ['PPERSAUT', 'APERSAUT', 'MKOOPKLA', 'PWAPART', 'PBRAND', 'AWAPART', 'MINKGEM', 'MOPLHOOG', 'APLEZIER',\n",
        "              'PPLEZIER', 'MHKOOP', 'MOPLLAAG', 'MINKM30', 'MHHUUR', 'MAUT0', 'MOSTYPE', 'MZFONDS']"
      ]
    },
    {
      "cell_type": "markdown",
      "metadata": {
        "id": "cwWC21X6vflf"
      },
      "source": [
        "### **Splitting the data set in to train/test - 80/20**"
      ]
    },
    {
      "cell_type": "code",
      "execution_count": null,
      "metadata": {
        "colab": {
          "base_uri": "https://localhost:8080/"
        },
        "id": "6xuxULS0khrD",
        "outputId": "98bd0e72-9a83-42b4-e346-07a40b77f57b"
      },
      "outputs": [
        {
          "name": "stdout",
          "output_type": "stream",
          "text": [
            "Training set: (8758, 86) Test set: (2190, 86)\n"
          ]
        }
      ],
      "source": [
        "# 80/20 train test split\n",
        "train_df1, test_df1 = train_test_split(final_df, test_size=0.2, random_state=1)\n",
        "print('Training set:', train_df1.shape, 'Test set:', test_df1.shape)"
      ]
    },
    {
      "cell_type": "code",
      "execution_count": null,
      "metadata": {
        "id": "8ZSxJl46klyb"
      },
      "outputs": [],
      "source": [
        "# creat list of that are our predictors (X), and outcome (y)\n",
        "y = 'CARAVAN'\n",
        "X = ['PPERSAUT', 'APERSAUT', 'MKOOPKLA', 'PWAPART', 'PBRAND', 'AWAPART', 'MINKGEM', 'MOPLHOOG', 'APLEZIER',\n",
        "              'PPLEZIER', 'MHKOOP', 'MOPLLAAG', 'MINKM30', 'MHHUUR', 'MAUT0', 'MOSTYPE', 'MZFONDS']"
      ]
    },
    {
      "cell_type": "markdown",
      "metadata": {
        "id": "hWd6acW8cPt_"
      },
      "source": [
        "### **Step 7: Performing Data Scaling using StandardScaler**\n",
        "Predicting models are sensitive to differences in scale; therefore, we should begin by eliminating any differences in scale between the predictors/features. To accomplish this, we will standardize the values of each variable.\n",
        "\n",
        "We will use the popular sklearn library's 'standard scaler' to accomplish this. This library contains many of the common functions we require when conducting analytics. The standard scaler function will standardize our variables. To achieve this, we will first need to train the scaler on the training data and then apply this trained scaler to standardize both the training and validation sets.\n",
        "\n"
      ]
    },
    {
      "cell_type": "markdown",
      "metadata": {
        "id": "2qFmWrP2zuNg"
      },
      "source": [
        "**Create a standard scaler and fit it to the training set of predictors**"
      ]
    },
    {
      "cell_type": "code",
      "execution_count": null,
      "metadata": {
        "colab": {
          "base_uri": "https://localhost:8080/"
        },
        "id": "m3UQqrFEiVvD",
        "outputId": "8f67ccb1-0616-47ce-ea72-bc80f0edbead"
      },
      "outputs": [
        {
          "data": {
            "text/plain": [
              "StandardScaler()"
            ]
          },
          "execution_count": 36,
          "metadata": {},
          "output_type": "execute_result"
        }
      ],
      "source": [
        "scaler = preprocessing.StandardScaler()\n",
        "scaler.fit(train_df1[X])"
      ]
    },
    {
      "cell_type": "markdown",
      "metadata": {
        "id": "8E6v48owz0Y5"
      },
      "source": [
        "**Transform the predictors of training and test**"
      ]
    },
    {
      "cell_type": "code",
      "execution_count": null,
      "metadata": {
        "id": "_NtW7Pl7kZvv"
      },
      "outputs": [],
      "source": [
        "X_train1= scaler.transform(train_df1[X])\n",
        "y_train1 = train_df1[y]\n",
        "X_test1 = scaler.transform(test_df1[X])\n",
        "y_test1 = test_df1[y]"
      ]
    },
    {
      "cell_type": "markdown",
      "metadata": {
        "id": "lFXQdCJ20L5I"
      },
      "source": [
        "### **Step 8: Creating various ML Models for Binary Class Classification Problem**"
      ]
    },
    {
      "cell_type": "markdown",
      "metadata": {
        "id": "fb7-4EaemBPA"
      },
      "source": [
        "**Model 1 - KNN (Hyperparameter Tuning - Grid Search) with recall as evaluation metric**"
      ]
    },
    {
      "cell_type": "code",
      "execution_count": null,
      "metadata": {
        "colab": {
          "base_uri": "https://localhost:8080/"
        },
        "id": "1HKHbNQznbcK",
        "outputId": "a07c8367-59ee-424c-c144-8f5d8a24828e"
      },
      "outputs": [
        {
          "data": {
            "text/plain": [
              "GridSearchCV(cv=10, estimator=KNeighborsClassifier(), n_jobs=-1,\n",
              "             param_grid={'metric': ['euclidean', 'cosine', 'manhattan'],\n",
              "                         'n_neighbors': [1, 3, 5, 7, 9, 11, 13],\n",
              "                         'weights': ['uniform', 'distance']},\n",
              "             scoring='recall')"
            ]
          },
          "execution_count": 51,
          "metadata": {},
          "output_type": "execute_result"
        }
      ],
      "source": [
        "score_measure = 'recall'\n",
        "k_fold = 10\n",
        "# Start with an initial guess for parameters\n",
        "param_grid = {\n",
        "    'n_neighbors': list(range(1,15,2)),\n",
        "    'weights': ['uniform','distance'], #added weights parameter\n",
        "    'metric': ['euclidean', 'cosine','manhattan']\n",
        "}\n",
        "gridSearch = GridSearchCV(KNeighborsClassifier(), param_grid, cv=k_fold, scoring=score_measure,\n",
        "                          n_jobs=-1)  # n_jobs=-1 will utilize all available CPUs\n",
        "gridSearch.fit(X_train1,y_train1)"
      ]
    },
    {
      "cell_type": "code",
      "execution_count": null,
      "metadata": {
        "colab": {
          "base_uri": "https://localhost:8080/"
        },
        "id": "iyD98dAinlKb",
        "outputId": "03878007-c8ed-4388-9d4c-fdb32e1777c1"
      },
      "outputs": [
        {
          "name": "stdout",
          "output_type": "stream",
          "text": [
            "recall score:  1.0\n",
            "parameters:  {'metric': 'manhattan', 'n_neighbors': 13, 'weights': 'distance'}\n"
          ]
        }
      ],
      "source": [
        "print(score_measure, 'score: ', gridSearch.best_score_)\n",
        "print('parameters: ', gridSearch.best_params_)\n",
        "bestRecallKnn = gridSearch.best_estimator_"
      ]
    },
    {
      "cell_type": "code",
      "execution_count": null,
      "metadata": {
        "colab": {
          "base_uri": "https://localhost:8080/"
        },
        "id": "CjSf626eIcCR",
        "outputId": "30947791-8855-49ad-c2e3-db4d04529679"
      },
      "outputs": [
        {
          "data": {
            "text/plain": [
              "GridSearchCV(cv=10, estimator=KNeighborsClassifier(), n_jobs=-1,\n",
              "             param_grid={'metric': ['euclidean', 'cosine', 'manhattan'],\n",
              "                         'n_neighbors': [1, 3, 5, 7, 9, 11, 13],\n",
              "                         'weights': ['uniform', 'distance']},\n",
              "             scoring='recall')"
            ]
          },
          "execution_count": 53,
          "metadata": {},
          "output_type": "execute_result"
        }
      ],
      "source": [
        "gridSearch.fit(X_train1,y_train1)"
      ]
    },
    {
      "cell_type": "code",
      "execution_count": null,
      "metadata": {
        "id": "0ErK3pOno11K"
      },
      "outputs": [],
      "source": [
        "prediction1 = gridSearch.predict(X_test1)"
      ]
    },
    {
      "cell_type": "code",
      "execution_count": null,
      "metadata": {
        "colab": {
          "base_uri": "https://localhost:8080/"
        },
        "id": "LuxItJG5oF61",
        "outputId": "d0c8fce4-d86e-4f60-bcf5-9fa986b37fc3"
      },
      "outputs": [
        {
          "name": "stdout",
          "output_type": "stream",
          "text": [
            "              precision    recall  f1-score   support\n",
            "\n",
            "           0       1.00      0.76      0.86      1083\n",
            "           1       0.81      1.00      0.89      1107\n",
            "\n",
            "    accuracy                           0.88      2190\n",
            "   macro avg       0.90      0.88      0.88      2190\n",
            "weighted avg       0.90      0.88      0.88      2190\n",
            "\n"
          ]
        }
      ],
      "source": [
        "print(classification_report(y_test1, prediction1))"
      ]
    },
    {
      "cell_type": "code",
      "execution_count": null,
      "metadata": {
        "id": "FwuM1LOrrRP4"
      },
      "outputs": [],
      "source": [
        "col_knn = ['PPERSAUT', 'APERSAUT', 'MKOOPKLA', 'PWAPART', 'PBRAND', 'AWAPART', 'MINKGEM', 'MOPLHOOG', 'APLEZIER',\n",
        "              'PPLEZIER', 'MHKOOP', 'MOPLLAAG', 'MINKM30', 'MHHUUR', 'MAUT0', 'MOSTYPE', 'MZFONDS']\n",
        "\n",
        "predict = gridSearch.predict(test_data[col_knn])"
      ]
    },
    {
      "cell_type": "code",
      "execution_count": null,
      "metadata": {
        "colab": {
          "base_uri": "https://localhost:8080/"
        },
        "id": "o8_SRX70sxfh",
        "outputId": "e2c6b886-30ac-4339-923a-0784287f8759"
      },
      "outputs": [
        {
          "data": {
            "text/plain": [
              "((4000,), (4000, 1))"
            ]
          },
          "execution_count": 62,
          "metadata": {},
          "output_type": "execute_result"
        }
      ],
      "source": [
        "predict.shape,target_data.shape"
      ]
    },
    {
      "cell_type": "code",
      "execution_count": null,
      "metadata": {
        "colab": {
          "base_uri": "https://localhost:8080/"
        },
        "id": "AASPkrS7yc-M",
        "outputId": "053d3fcb-6348-4b08-f553-e69f12c40e44"
      },
      "outputs": [
        {
          "name": "stdout",
          "output_type": "stream",
          "text": [
            "              precision    recall  f1-score   support\n",
            "\n",
            "           0       0.45      0.96      0.61      1754\n",
            "           1       0.71      0.08      0.14      2246\n",
            "\n",
            "    accuracy                           0.46      4000\n",
            "   macro avg       0.58      0.52      0.37      4000\n",
            "weighted avg       0.60      0.46      0.34      4000\n",
            "\n"
          ]
        }
      ],
      "source": [
        "print(classification_report(predict,target_data))"
      ]
    },
    {
      "cell_type": "code",
      "execution_count": null,
      "metadata": {
        "id": "uCZVKwRq1vky"
      },
      "outputs": [],
      "source": [
        "cf_knn = confusion_matrix(target_data,predict)"
      ]
    },
    {
      "cell_type": "markdown",
      "metadata": {
        "id": "trRyY5Dc2K7o"
      },
      "source": [
        "**TRUE POSITIVE:** 170 Customers are likely to buy an insurance policy and model predicted as customers are likely to buy an insurance policy\n",
        "\n",
        "**TRUE NEGATIVE:** 1686 Customers who are interested in buying a caravan insurance policy, but the model predicted customers are not interested in buying the policy.\n",
        "\n",
        "**FALSE POSITIVE:** 2076 Customers who are not interested in buying the policy and model predicted as Customers are interested in buying the policy.\n",
        "\n",
        "**FALSE NEGATIVE:**  68 Customers who are interested to buy an insurance policy and the model predicted customers do not buy the insurance policy."
      ]
    },
    {
      "cell_type": "code",
      "execution_count": null,
      "metadata": {
        "colab": {
          "base_uri": "https://localhost:8080/",
          "height": 295
        },
        "id": "XfLAz1LS1suw",
        "outputId": "52f7f972-2527-4536-9d01-7f4987d73b5a"
      },
      "outputs": [
        {
          "data": {
            "image/png": "[encoded data removed]",
            "text/plain": [
              "<Figure size 576x288 with 2 Axes>"
            ]
          },
          "metadata": {
            "needs_background": "light"
          },
          "output_type": "display_data"
        }
      ],
      "source": [
        "cm_df = pd.DataFrame(cf_knn, index = ['Will not buy policy','Buy Policy'], columns = ['Will not buy policy','Buy Policy'])\n",
        "\n",
        "#Plotting the confusion matrix\n",
        "plt.figure(figsize=(8,4))\n",
        "sns.heatmap(cm_df, annot=True,cbar=True, fmt='g')\n",
        "\n",
        "plt.xlabel('Predicted Values')\n",
        "plt.ylabel('Actual Values')\n",
        "plt.title('Confusion Matrix')\n",
        "plt.show()"
      ]
    },
    {
      "cell_type": "markdown",
      "metadata": {
        "id": "31x6I1JP3eUr"
      },
      "source": [
        "**Predictions using Target data**"
      ]
    },
    {
      "cell_type": "code",
      "execution_count": null,
      "metadata": {
        "id": "zlTauWy1tphC"
      },
      "outputs": [],
      "source": [
        "knn_grid1 = pd.DataFrame(predict, columns = ['KNN_Prediction'])"
      ]
    },
    {
      "cell_type": "code",
      "execution_count": null,
      "metadata": {
        "id": "PyWCtB4-t1mu"
      },
      "outputs": [],
      "source": [
        "knn_grid1['KNN_Pred'] = np.where(knn_grid1['KNN_Prediction'] == target_data['Target'], 'True', 'False')"
      ]
    },
    {
      "cell_type": "code",
      "execution_count": null,
      "metadata": {
        "colab": {
          "base_uri": "https://localhost:8080/",
          "height": 143
        },
        "id": "AiQhsvfE3zHp",
        "outputId": "b52f6bc2-8e2d-4272-da63-fcef71e18458"
      },
      "outputs": [
        {
          "data": {
            "text/html": [
              "\n",
              "  <div id=\"df-8ddb6b37-57e0-426b-a4d0-ad94ac9ce622\">\n",
              "    <div class=\"colab-df-container\">\n",
              "      <div>\n",
              "<style scoped>\n",
              "    .dataframe tbody tr th:only-of-type {\n",
              "        vertical-align: middle;\n",
              "    }\n",
              "\n",
              "    .dataframe tbody tr th {\n",
              "        vertical-align: top;\n",
              "    }\n",
              "\n",
              "    .dataframe thead th {\n",
              "        text-align: right;\n",
              "    }\n",
              "</style>\n",
              "<table border=\"1\" class=\"dataframe\">\n",
              "  <thead>\n",
              "    <tr style=\"text-align: right;\">\n",
              "      <th></th>\n",
              "      <th>KNN_Prediction</th>\n",
              "      <th>KNN_Pred</th>\n",
              "    </tr>\n",
              "  </thead>\n",
              "  <tbody>\n",
              "    <tr>\n",
              "      <th>0</th>\n",
              "      <td>1</td>\n",
              "      <td>False</td>\n",
              "    </tr>\n",
              "    <tr>\n",
              "      <th>1</th>\n",
              "      <td>1</td>\n",
              "      <td>True</td>\n",
              "    </tr>\n",
              "    <tr>\n",
              "      <th>2</th>\n",
              "      <td>1</td>\n",
              "      <td>False</td>\n",
              "    </tr>\n",
              "  </tbody>\n",
              "</table>\n",
              "</div>\n",
              "      <button class=\"colab-df-convert\" onclick=\"convertToInteractive('df-8ddb6b37-57e0-426b-a4d0-ad94ac9ce622')\"\n",
              "              title=\"Convert this dataframe to an interactive table.\"\n",
              "              style=\"display:none;\">\n",
              "        \n",
              "  <svg xmlns=\"http://www.w3.org/2000/svg\" height=\"24px\"viewBox=\"0 0 24 24\"\n",
              "       width=\"24px\">\n",
              "    <path d=\"M0 0h24v24H0V0z\" fill=\"none\"/>\n",
              "    <path d=\"M18.56 5.44l.94 2.06.94-2.06 2.06-.94-2.06-.94-.94-2.06-.94 2.06-2.06.94zm-11 1L8.5 8.5l.94-2.06 2.06-.94-2.06-.94L8.5 2.5l-.94 2.06-2.06.94zm10 10l.94 2.06.94-2.06 2.06-.94-2.06-.94-.94-2.06-.94 2.06-2.06.94z\"/><path d=\"M17.41 7.96l-1.37-1.37c-.4-.4-.92-.59-1.43-.59-.52 0-1.04.2-1.43.59L10.3 9.45l-7.72 7.72c-.78.78-.78 2.05 0 2.83L4 21.41c.39.39.9.59 1.41.59.51 0 1.02-.2 1.41-.59l7.78-7.78 2.81-2.81c.8-.78.8-2.07 0-2.86zM5.41 20L4 18.59l7.72-7.72 1.47 1.35L5.41 20z\"/>\n",
              "  </svg>\n",
              "      </button>\n",
              "      \n",
              "  <style>\n",
              "    .colab-df-container {\n",
              "      display:flex;\n",
              "      flex-wrap:wrap;\n",
              "      gap: 12px;\n",
              "    }\n",
              "\n",
              "    .colab-df-convert {\n",
              "      background-color: #E8F0FE;\n",
              "      border: none;\n",
              "      border-radius: 50%;\n",
              "      cursor: pointer;\n",
              "      display: none;\n",
              "      fill: #1967D2;\n",
              "      height: 32px;\n",
              "      padding: 0 0 0 0;\n",
              "      width: 32px;\n",
              "    }\n",
              "\n",
              "    .colab-df-convert:hover {\n",
              "      background-color: #E2EBFA;\n",
              "      box-shadow: 0px 1px 2px rgba(60, 64, 67, 0.3), 0px 1px 3px 1px rgba(60, 64, 67, 0.15);\n",
              "      fill: #174EA6;\n",
              "    }\n",
              "\n",
              "    [theme=dark] .colab-df-convert {\n",
              "      background-color: #3B4455;\n",
              "      fill: #D2E3FC;\n",
              "    }\n",
              "\n",
              "    [theme=dark] .colab-df-convert:hover {\n",
              "      background-color: #434B5C;\n",
              "      box-shadow: 0px 1px 3px 1px rgba(0, 0, 0, 0.15);\n",
              "      filter: drop-shadow(0px 1px 2px rgba(0, 0, 0, 0.3));\n",
              "      fill: #FFFFFF;\n",
              "    }\n",
              "  </style>\n",
              "\n",
              "      <script>\n",
              "        const buttonEl =\n",
              "          document.querySelector('#df-8ddb6b37-57e0-426b-a4d0-ad94ac9ce622 button.colab-df-convert');\n",
              "        buttonEl.style.display =\n",
              "          google.colab.kernel.accessAllowed ? 'block' : 'none';\n",
              "\n",
              "        async function convertToInteractive(key) {\n",
              "          const element = document.querySelector('#df-8ddb6b37-57e0-426b-a4d0-ad94ac9ce622');\n",
              "          const dataTable =\n",
              "            await google.colab.kernel.invokeFunction('convertToInteractive',\n",
              "                                                     [key], {});\n",
              "          if (!dataTable) return;\n",
              "\n",
              "          const docLinkHtml = 'Like what you see? Visit the ' +\n",
              "            '<a target=\"_blank\" href=https://colab.research.google.com/notebooks/data_table.ipynb>data table notebook</a>'\n",
              "            + ' to learn more about interactive tables.';\n",
              "          element.innerHTML = '';\n",
              "          dataTable['output_type'] = 'display_data';\n",
              "          await google.colab.output.renderOutput(dataTable, element);\n",
              "          const docLink = document.createElement('div');\n",
              "          docLink.innerHTML = docLinkHtml;\n",
              "          element.appendChild(docLink);\n",
              "        }\n",
              "      </script>\n",
              "    </div>\n",
              "  </div>\n",
              "  "
            ],
            "text/plain": [
              "   KNN_Prediction KNN_Pred\n",
              "0               1    False\n",
              "1               1     True\n",
              "2               1    False"
            ]
          },
          "execution_count": 247,
          "metadata": {},
          "output_type": "execute_result"
        }
      ],
      "source": [
        "knn_grid1.head(3)"
      ]
    },
    {
      "cell_type": "code",
      "execution_count": null,
      "metadata": {
        "colab": {
          "base_uri": "https://localhost:8080/"
        },
        "id": "DzF_F-PtvBSP",
        "outputId": "9a177fc2-8422-4808-eb54-68d4b9511016"
      },
      "outputs": [
        {
          "data": {
            "text/plain": [
              "KNN_Prediction  KNN_Pred\n",
              "1               False       2076\n",
              "0               True        1686\n",
              "1               True         170\n",
              "0               False         68\n",
              "dtype: int64"
            ]
          },
          "execution_count": 68,
          "metadata": {},
          "output_type": "execute_result"
        }
      ],
      "source": [
        "knn_grid1.value_counts()"
      ]
    },
    {
      "cell_type": "markdown",
      "metadata": {
        "id": "HC-_BcPXiAec"
      },
      "source": [
        "**Saving the predictions to an csv file for convenience**"
      ]
    },
    {
      "cell_type": "code",
      "execution_count": null,
      "metadata": {
        "id": "5voXp3knrRTR"
      },
      "outputs": [],
      "source": [
        "knn_grid = pd.DataFrame(predict).to_csv(\"./knngrid.csv\")"
      ]
    },
    {
      "cell_type": "markdown",
      "metadata": {
        "id": "bS0quS2e_fqF"
      },
      "source": [
        "**Model 2 : Naive Bayes Classifier**"
      ]
    },
    {
      "cell_type": "code",
      "execution_count": null,
      "metadata": {
        "colab": {
          "base_uri": "https://localhost:8080/"
        },
        "id": "fB2dlkva8o-3",
        "outputId": "b9569349-eda6-4a3a-ba33-57584a7404a9"
      },
      "outputs": [
        {
          "data": {
            "text/plain": [
              "GaussianNB()"
            ]
          },
          "execution_count": 176,
          "metadata": {},
          "output_type": "execute_result"
        }
      ],
      "source": [
        "# train a Gaussian Naive Bayes classifier on the training set\n",
        "from sklearn.naive_bayes import GaussianNB\n",
        "# instantiate the model\n",
        "gnb = GaussianNB()\n",
        "# fit the model\n",
        "gnb.fit(X_train1, y_train1)"
      ]
    },
    {
      "cell_type": "code",
      "execution_count": null,
      "metadata": {
        "colab": {
          "base_uri": "https://localhost:8080/"
        },
        "id": "wT1VgZrV8pA6",
        "outputId": "b717cfdf-9b52-44a8-d71b-074cdfda3c57"
      },
      "outputs": [
        {
          "data": {
            "text/plain": [
              "array([0, 0, 1, ..., 0, 0, 0])"
            ]
          },
          "execution_count": 177,
          "metadata": {},
          "output_type": "execute_result"
        }
      ],
      "source": [
        "y_pred = gnb.predict(X_test1)\n",
        "y_pred"
      ]
    },
    {
      "cell_type": "code",
      "execution_count": null,
      "metadata": {
        "id": "0oLvBKas8pEr"
      },
      "outputs": [],
      "source": [
        "predict_nb = gnb.predict(test_data[col_knn])"
      ]
    },
    {
      "cell_type": "code",
      "execution_count": null,
      "metadata": {
        "colab": {
          "base_uri": "https://localhost:8080/"
        },
        "id": "cwH9F_HQ9oYM",
        "outputId": "eb502646-38d9-448a-e0f6-670c1da065ab"
      },
      "outputs": [
        {
          "name": "stdout",
          "output_type": "stream",
          "text": [
            "              precision    recall  f1-score   support\n",
            "\n",
            "           0       0.11      0.96      0.20       436\n",
            "           1       0.93      0.06      0.12      3564\n",
            "\n",
            "    accuracy                           0.16      4000\n",
            "   macro avg       0.52      0.51      0.16      4000\n",
            "weighted avg       0.84      0.16      0.13      4000\n",
            "\n"
          ]
        }
      ],
      "source": [
        "print(classification_report(predict_nb,target_data))"
      ]
    },
    {
      "cell_type": "code",
      "execution_count": null,
      "metadata": {
        "id": "o01K86_wXxik"
      },
      "outputs": [],
      "source": [
        "confusion_naive = confusion_matrix(target_data, predict_nb)"
      ]
    },
    {
      "cell_type": "code",
      "execution_count": null,
      "metadata": {
        "colab": {
          "base_uri": "https://localhost:8080/"
        },
        "id": "aBcvjjvkYpcq",
        "outputId": "8bc54539-96b8-400e-acd9-78120dbb1518"
      },
      "outputs": [
        {
          "data": {
            "text/plain": [
              "array([[ 420, 3342],\n",
              "       [  16,  222]])"
            ]
          },
          "execution_count": 222,
          "metadata": {},
          "output_type": "execute_result"
        }
      ],
      "source": [
        "confusion_naive"
      ]
    },
    {
      "cell_type": "markdown",
      "metadata": {
        "id": "VGXZOXw83_oA"
      },
      "source": [
        "**TRUE POSITIVE:** 222 Customers are likely to buy an insurance policy and model predicted as customers are likely to buy an insurance policy\n",
        "\n",
        "**TRUE NEGATIVE:** 420 Customers who are interested in buying a caravan insurance policy, but the model predicted customers are not interested in buying the policy.\n",
        "\n",
        "**FALSE POSITIVE:** 3342 Customers who are not interested in buying the policy and model predicted as Customers are interested in buying the policy.\n",
        "\n",
        "**FALSE NEGATIVE:**  16 Customers who are interested to buy an insurance policy and the model predicted customers do not buy the insurance policy."
      ]
    },
    {
      "cell_type": "code",
      "execution_count": null,
      "metadata": {
        "colab": {
          "base_uri": "https://localhost:8080/",
          "height": 295
        },
        "id": "WL5OxISmXy01",
        "outputId": "7da2a1d0-466b-49f6-94da-81b7e5c67db4"
      },
      "outputs": [
        {
          "data": {
            "image/png": "[encoded data removed]",
            "text/plain": [
              "<Figure size 576x288 with 2 Axes>"
            ]
          },
          "metadata": {
            "needs_background": "light"
          },
          "output_type": "display_data"
        }
      ],
      "source": [
        "cm_df = pd.DataFrame(confusion_naive, index = ['Buy Policy','Will not buy policy'], columns = ['Buy Policy','Will not buy policy'])\n",
        "\n",
        "#Plotting the confusion matrix\n",
        "plt.figure(figsize=(8,4))\n",
        "sns.heatmap(cm_df, annot=True,cbar=True, fmt='g')\n",
        "\n",
        "plt.xlabel('Predicted Values')\n",
        "plt.ylabel('Actual Values')\n",
        "plt.title('Confusion Matrix')\n",
        "plt.show()"
      ]
    },
    {
      "cell_type": "markdown",
      "metadata": {
        "id": "d8nYMC7N4b9m"
      },
      "source": [
        "**Predictions using Target data**"
      ]
    },
    {
      "cell_type": "code",
      "execution_count": null,
      "metadata": {
        "id": "G6d59uWv9oa-"
      },
      "outputs": [],
      "source": [
        "nb_predictions = pd.DataFrame(predict_nb,columns = ['NB_Prediction'])"
      ]
    },
    {
      "cell_type": "code",
      "execution_count": null,
      "metadata": {
        "colab": {
          "base_uri": "https://localhost:8080/",
          "height": 424
        },
        "id": "LpJlkmrc95pi",
        "outputId": "dc67b584-fbd6-42d6-9107-3d98514cf8a1"
      },
      "outputs": [
        {
          "data": {
            "text/html": [
              "\n",
              "  <div id=\"df-406f1c4c-77b2-4c4b-8304-2ade363fb982\">\n",
              "    <div class=\"colab-df-container\">\n",
              "      <div>\n",
              "<style scoped>\n",
              "    .dataframe tbody tr th:only-of-type {\n",
              "        vertical-align: middle;\n",
              "    }\n",
              "\n",
              "    .dataframe tbody tr th {\n",
              "        vertical-align: top;\n",
              "    }\n",
              "\n",
              "    .dataframe thead th {\n",
              "        text-align: right;\n",
              "    }\n",
              "</style>\n",
              "<table border=\"1\" class=\"dataframe\">\n",
              "  <thead>\n",
              "    <tr style=\"text-align: right;\">\n",
              "      <th></th>\n",
              "      <th>NB_Prediction</th>\n",
              "    </tr>\n",
              "  </thead>\n",
              "  <tbody>\n",
              "    <tr>\n",
              "      <th>0</th>\n",
              "      <td>1</td>\n",
              "    </tr>\n",
              "    <tr>\n",
              "      <th>1</th>\n",
              "      <td>1</td>\n",
              "    </tr>\n",
              "    <tr>\n",
              "      <th>2</th>\n",
              "      <td>1</td>\n",
              "    </tr>\n",
              "    <tr>\n",
              "      <th>3</th>\n",
              "      <td>1</td>\n",
              "    </tr>\n",
              "    <tr>\n",
              "      <th>4</th>\n",
              "      <td>1</td>\n",
              "    </tr>\n",
              "    <tr>\n",
              "      <th>...</th>\n",
              "      <td>...</td>\n",
              "    </tr>\n",
              "    <tr>\n",
              "      <th>3995</th>\n",
              "      <td>1</td>\n",
              "    </tr>\n",
              "    <tr>\n",
              "      <th>3996</th>\n",
              "      <td>1</td>\n",
              "    </tr>\n",
              "    <tr>\n",
              "      <th>3997</th>\n",
              "      <td>1</td>\n",
              "    </tr>\n",
              "    <tr>\n",
              "      <th>3998</th>\n",
              "      <td>1</td>\n",
              "    </tr>\n",
              "    <tr>\n",
              "      <th>3999</th>\n",
              "      <td>1</td>\n",
              "    </tr>\n",
              "  </tbody>\n",
              "</table>\n",
              "<p>4000 rows × 1 columns</p>\n",
              "</div>\n",
              "      <button class=\"colab-df-convert\" onclick=\"convertToInteractive('df-406f1c4c-77b2-4c4b-8304-2ade363fb982')\"\n",
              "              title=\"Convert this dataframe to an interactive table.\"\n",
              "              style=\"display:none;\">\n",
              "        \n",
              "  <svg xmlns=\"http://www.w3.org/2000/svg\" height=\"24px\"viewBox=\"0 0 24 24\"\n",
              "       width=\"24px\">\n",
              "    <path d=\"M0 0h24v24H0V0z\" fill=\"none\"/>\n",
              "    <path d=\"M18.56 5.44l.94 2.06.94-2.06 2.06-.94-2.06-.94-.94-2.06-.94 2.06-2.06.94zm-11 1L8.5 8.5l.94-2.06 2.06-.94-2.06-.94L8.5 2.5l-.94 2.06-2.06.94zm10 10l.94 2.06.94-2.06 2.06-.94-2.06-.94-.94-2.06-.94 2.06-2.06.94z\"/><path d=\"M17.41 7.96l-1.37-1.37c-.4-.4-.92-.59-1.43-.59-.52 0-1.04.2-1.43.59L10.3 9.45l-7.72 7.72c-.78.78-.78 2.05 0 2.83L4 21.41c.39.39.9.59 1.41.59.51 0 1.02-.2 1.41-.59l7.78-7.78 2.81-2.81c.8-.78.8-2.07 0-2.86zM5.41 20L4 18.59l7.72-7.72 1.47 1.35L5.41 20z\"/>\n",
              "  </svg>\n",
              "      </button>\n",
              "      \n",
              "  <style>\n",
              "    .colab-df-container {\n",
              "      display:flex;\n",
              "      flex-wrap:wrap;\n",
              "      gap: 12px;\n",
              "    }\n",
              "\n",
              "    .colab-df-convert {\n",
              "      background-color: #E8F0FE;\n",
              "      border: none;\n",
              "      border-radius: 50%;\n",
              "      cursor: pointer;\n",
              "      display: none;\n",
              "      fill: #1967D2;\n",
              "      height: 32px;\n",
              "      padding: 0 0 0 0;\n",
              "      width: 32px;\n",
              "    }\n",
              "\n",
              "    .colab-df-convert:hover {\n",
              "      background-color: #E2EBFA;\n",
              "      box-shadow: 0px 1px 2px rgba(60, 64, 67, 0.3), 0px 1px 3px 1px rgba(60, 64, 67, 0.15);\n",
              "      fill: #174EA6;\n",
              "    }\n",
              "\n",
              "    [theme=dark] .colab-df-convert {\n",
              "      background-color: #3B4455;\n",
              "      fill: #D2E3FC;\n",
              "    }\n",
              "\n",
              "    [theme=dark] .colab-df-convert:hover {\n",
              "      background-color: #434B5C;\n",
              "      box-shadow: 0px 1px 3px 1px rgba(0, 0, 0, 0.15);\n",
              "      filter: drop-shadow(0px 1px 2px rgba(0, 0, 0, 0.3));\n",
              "      fill: #FFFFFF;\n",
              "    }\n",
              "  </style>\n",
              "\n",
              "      <script>\n",
              "        const buttonEl =\n",
              "          document.querySelector('#df-406f1c4c-77b2-4c4b-8304-2ade363fb982 button.colab-df-convert');\n",
              "        buttonEl.style.display =\n",
              "          google.colab.kernel.accessAllowed ? 'block' : 'none';\n",
              "\n",
              "        async function convertToInteractive(key) {\n",
              "          const element = document.querySelector('#df-406f1c4c-77b2-4c4b-8304-2ade363fb982');\n",
              "          const dataTable =\n",
              "            await google.colab.kernel.invokeFunction('convertToInteractive',\n",
              "                                                     [key], {});\n",
              "          if (!dataTable) return;\n",
              "\n",
              "          const docLinkHtml = 'Like what you see? Visit the ' +\n",
              "            '<a target=\"_blank\" href=https://colab.research.google.com/notebooks/data_table.ipynb>data table notebook</a>'\n",
              "            + ' to learn more about interactive tables.';\n",
              "          element.innerHTML = '';\n",
              "          dataTable['output_type'] = 'display_data';\n",
              "          await google.colab.output.renderOutput(dataTable, element);\n",
              "          const docLink = document.createElement('div');\n",
              "          docLink.innerHTML = docLinkHtml;\n",
              "          element.appendChild(docLink);\n",
              "        }\n",
              "      </script>\n",
              "    </div>\n",
              "  </div>\n",
              "  "
            ],
            "text/plain": [
              "      NB_Prediction\n",
              "0                 1\n",
              "1                 1\n",
              "2                 1\n",
              "3                 1\n",
              "4                 1\n",
              "...             ...\n",
              "3995              1\n",
              "3996              1\n",
              "3997              1\n",
              "3998              1\n",
              "3999              1\n",
              "\n",
              "[4000 rows x 1 columns]"
            ]
          },
          "execution_count": 181,
          "metadata": {},
          "output_type": "execute_result"
        }
      ],
      "source": [
        "nb_predictions"
      ]
    },
    {
      "cell_type": "code",
      "execution_count": null,
      "metadata": {
        "id": "NbP4lNTJ95sZ"
      },
      "outputs": [],
      "source": [
        "nb_predictions['NB_Pred'] = np.where(nb_predictions['NB_Prediction'] == target_data['Target'], 'True', 'False')"
      ]
    },
    {
      "cell_type": "code",
      "execution_count": null,
      "metadata": {
        "colab": {
          "base_uri": "https://localhost:8080/"
        },
        "id": "nXvDSA6b-Q0Y",
        "outputId": "35a38c25-be4a-4225-9773-29fca9777a49"
      },
      "outputs": [
        {
          "data": {
            "text/plain": [
              "NB_Prediction  NB_Pred\n",
              "1              False      3342\n",
              "0              True        420\n",
              "1              True        222\n",
              "0              False        16\n",
              "dtype: int64"
            ]
          },
          "execution_count": 183,
          "metadata": {},
          "output_type": "execute_result"
        }
      ],
      "source": [
        "nb_predictions.value_counts()"
      ]
    },
    {
      "cell_type": "markdown",
      "metadata": {
        "id": "HKjXVBcz6wWw"
      },
      "source": [
        "**Model 3 : Decision Tree Classifier using Hyper Parameter Tuning (Grid Search and Random Search)**"
      ]
    },
    {
      "cell_type": "code",
      "execution_count": null,
      "metadata": {
        "id": "wI__5BF-9m1M"
      },
      "outputs": [],
      "source": [
        "random_seed = 1\n",
        "np.random.seed(random_seed)"
      ]
    },
    {
      "cell_type": "markdown",
      "metadata": {
        "id": "wgmGElr85CSq"
      },
      "source": [
        "**Grid Search**"
      ]
    },
    {
      "cell_type": "code",
      "execution_count": null,
      "metadata": {
        "id": "iFo7pRoTsR4w"
      },
      "outputs": [],
      "source": [
        "plus_minus = 10 # change this to 10-15 when doing a final run. this current value is for testing\n",
        "increment = 2\n",
        "\n",
        "\n",
        "param_grid = {\n",
        "    'max_depth': [2,5,10,20,30,40,50],\n",
        "    'min_samples_split': [357,361,365,369,373,377],\n",
        "    'min_samples_leaf' : [59,63,67,71,79],\n",
        "    'min_impurity_decrease': [0, 0.0005, 0.001, 0.005, 0.01],\n",
        "    'max_leaf_nodes' : [633,637,641,647,651,655],\n",
        "    'criterion':['gini','entropy']\n",
        "}"
      ]
    },
    {
      "cell_type": "code",
      "execution_count": null,
      "metadata": {
        "id": "LSDjjw2Xp6YZ"
      },
      "outputs": [],
      "source": [
        "best_grid_search_model = GridSearchCV(estimator=DecisionTreeClassifier(random_state=random_seed),\n",
        "                                    scoring='recall', param_grid=param_grid, cv=10, verbose=0,  n_jobs = -1)\n",
        "best_grid_search_model = best_grid_search_model.fit(X_train1, y_train1)"
      ]
    },
    {
      "cell_type": "code",
      "execution_count": null,
      "metadata": {
        "colab": {
          "base_uri": "https://localhost:8080/"
        },
        "id": "khZ3hJzFp6cK",
        "outputId": "e5067e9b-f117-4a49-b71e-0eb1dd09f5d9"
      },
      "outputs": [
        {
          "name": "stdout",
          "output_type": "stream",
          "text": [
            "Best parameters found:  {'criterion': 'gini', 'max_depth': 2, 'max_leaf_nodes': 633, 'min_impurity_decrease': 0, 'min_samples_leaf': 59, 'min_samples_split': 357}\n"
          ]
        }
      ],
      "source": [
        "print('Best parameters found: ', best_grid_search_model.best_params_)"
      ]
    },
    {
      "cell_type": "code",
      "execution_count": null,
      "metadata": {
        "id": "--rI3vWY-NZ_"
      },
      "outputs": [],
      "source": [
        "X_train2= train_df1[X]\n",
        "y_train2 = train_df1[y]\n",
        "X_test2 = test_df1[X]\n",
        "y_test2 = test_df1[y]"
      ]
    },
    {
      "cell_type": "code",
      "execution_count": null,
      "metadata": {
        "id": "7MCOfveh9vx_"
      },
      "outputs": [],
      "source": [
        "best_grid_search_model1 = GridSearchCV(estimator=DecisionTreeClassifier(random_state=random_seed),\n",
        "                                    scoring='recall', param_grid=param_grid, cv=10, verbose=0,  n_jobs = -1)\n",
        "best_grid_search_model1 = best_grid_search_model1.fit(X_train2, y_train2)"
      ]
    },
    {
      "cell_type": "code",
      "execution_count": null,
      "metadata": {
        "id": "RCA0iEZQ9vgU"
      },
      "outputs": [],
      "source": [
        "prediction1 = best_grid_search_model.predict(X_test2)"
      ]
    },
    {
      "cell_type": "code",
      "execution_count": null,
      "metadata": {
        "colab": {
          "base_uri": "https://localhost:8080/",
          "height": 165
        },
        "id": "oj97VZRNAZAx",
        "outputId": "652f5947-976b-4034-d991-764617810382"
      },
      "outputs": [
        {
          "ename": "NameError",
          "evalue": "ignored",
          "output_type": "error",
          "traceback": [
            "\u001b[0;31m---------------------------------------------------------------------------\u001b[0m",
            "\u001b[0;31mNameError\u001b[0m                                 Traceback (most recent call last)",
            "\u001b[0;32m<ipython-input-163-5aeddcece47c>\u001b[0m in \u001b[0;36m<module>\u001b[0;34m\u001b[0m\n\u001b[0;32m----> 1\u001b[0;31m \u001b[0mpredict_dtree2\u001b[0m \u001b[0;34m=\u001b[0m \u001b[0mbest_grid_search_model\u001b[0m\u001b[0;34m.\u001b[0m\u001b[0mpredict\u001b[0m\u001b[0;34m(\u001b[0m\u001b[0mtest_data\u001b[0m\u001b[0;34m[\u001b[0m\u001b[0mcol_knn\u001b[0m\u001b[0;34m]\u001b[0m\u001b[0;34m)\u001b[0m\u001b[0;34m\u001b[0m\u001b[0;34m\u001b[0m\u001b[0m\n\u001b[0m",
            "\u001b[0;31mNameError\u001b[0m: name 'best_grid_search_model' is not defined"
          ]
        }
      ],
      "source": [
        "predict_dtree2 = best_grid_search_model.predict(test_data[col_knn])"
      ]
    },
    {
      "cell_type": "code",
      "execution_count": null,
      "metadata": {
        "id": "22Edsp92Afdk"
      },
      "outputs": [],
      "source": [
        "print(classification_report(predict_dtree2,target_data))"
      ]
    },
    {
      "cell_type": "code",
      "execution_count": null,
      "metadata": {
        "id": "hgTxndQop6fc"
      },
      "outputs": [],
      "source": [
        "prediction1 = best_grid_search_model.predict(X_test1)"
      ]
    },
    {
      "cell_type": "code",
      "execution_count": null,
      "metadata": {
        "colab": {
          "base_uri": "https://localhost:8080/"
        },
        "id": "lhFAamF_mtQ4",
        "outputId": "4e93a7be-4a35-4326-b93f-98d089174a80"
      },
      "outputs": [
        {
          "name": "stdout",
          "output_type": "stream",
          "text": [
            "              precision    recall  f1-score   support\n",
            "\n",
            "           0       0.73      0.63      0.68      1083\n",
            "           1       0.68      0.77      0.72      1107\n",
            "\n",
            "    accuracy                           0.70      2190\n",
            "   macro avg       0.71      0.70      0.70      2190\n",
            "weighted avg       0.71      0.70      0.70      2190\n",
            "\n"
          ]
        }
      ],
      "source": [
        "print(classification_report(y_test1, prediction1))"
      ]
    },
    {
      "cell_type": "code",
      "execution_count": null,
      "metadata": {
        "id": "PxF6vb02mtTo"
      },
      "outputs": [],
      "source": [
        "predict_dtree = best_grid_search_model.predict(test_data[col_knn])"
      ]
    },
    {
      "cell_type": "code",
      "execution_count": null,
      "metadata": {
        "colab": {
          "base_uri": "https://localhost:8080/"
        },
        "id": "sqzRHnUWmtW9",
        "outputId": "40f781d9-8fb8-4416-96e5-ac7e9ad24713"
      },
      "outputs": [
        {
          "data": {
            "text/plain": [
              "((4000,), (4000, 1))"
            ]
          },
          "execution_count": 95,
          "metadata": {},
          "output_type": "execute_result"
        }
      ],
      "source": [
        "predict_dtree.shape,target_data.shape"
      ]
    },
    {
      "cell_type": "code",
      "execution_count": null,
      "metadata": {
        "colab": {
          "base_uri": "https://localhost:8080/"
        },
        "id": "NuxHB8kOmtZd",
        "outputId": "b4d2b25d-dc78-4541-a99c-c208045578fe"
      },
      "outputs": [
        {
          "name": "stdout",
          "output_type": "stream",
          "text": [
            "              precision    recall  f1-score   support\n",
            "\n",
            "           0       0.51      0.97      0.67      1980\n",
            "           1       0.72      0.09      0.15      2020\n",
            "\n",
            "    accuracy                           0.52      4000\n",
            "   macro avg       0.62      0.53      0.41      4000\n",
            "weighted avg       0.62      0.52      0.41      4000\n",
            "\n"
          ]
        }
      ],
      "source": [
        "print(classification_report(predict_dtree,target_data))"
      ]
    },
    {
      "cell_type": "code",
      "execution_count": null,
      "metadata": {
        "id": "tO1hpzRO6ZF4"
      },
      "outputs": [],
      "source": [
        "confusion_dtree_grid = confusion_matrix(target_data, predict_dtree)"
      ]
    },
    {
      "cell_type": "markdown",
      "metadata": {
        "id": "ZZMUYrJE6pDX"
      },
      "source": [
        "**TRUE POSITIVE:** 170 Customers are likely to buy an insurance policy and model predicted as customers are likely to buy an insurance policy\n",
        "\n",
        "**TRUE NEGATIVE:** 420 Customers who are interested in buying a caravan insurance policy, but the model predicted customers are not interested in buying the policy.\n",
        "\n",
        "**FALSE POSITIVE:** 3342 Customers who are not interested in buying the policy and model predicted as Customers are interested in buying the policy.\n",
        "\n",
        "**FALSE NEGATIVE:**  16 Customers who are interested to buy an insurance policy and the model predicted customers do not buy the insurance policy."
      ]
    },
    {
      "cell_type": "code",
      "execution_count": null,
      "metadata": {
        "colab": {
          "base_uri": "https://localhost:8080/",
          "height": 295
        },
        "id": "qucZwQbQ6d2v",
        "outputId": "7f666553-5ae7-460d-fe62-58c9db756324"
      },
      "outputs": [
        {
          "data": {
            "image/png": "[encoded data removed]",
            "text/plain": [
              "<Figure size 576x288 with 2 Axes>"
            ]
          },
          "metadata": {
            "needs_background": "light"
          },
          "output_type": "display_data"
        }
      ],
      "source": [
        "cm_dtre = pd.DataFrame(confusion_dtree_grid, index = ['Buy Policy','Will not buy policy'], columns = ['Buy Policy','Will not buy policy'])\n",
        "\n",
        "#Plotting the confusion matrix\n",
        "plt.figure(figsize=(8,4))\n",
        "sns.heatmap(cm_df, annot=True,cbar=True, fmt='g')\n",
        "\n",
        "plt.xlabel('Predicted Values')\n",
        "plt.ylabel('Actual Values')\n",
        "plt.title('Confusion Matrix')\n",
        "plt.show()"
      ]
    },
    {
      "cell_type": "markdown",
      "metadata": {
        "id": "OUfb2gZr5pZH"
      },
      "source": [
        "**Grid Search Predictions on Target Data**"
      ]
    },
    {
      "cell_type": "code",
      "execution_count": null,
      "metadata": {
        "id": "C4-46o2lmtbY"
      },
      "outputs": [],
      "source": [
        "dtree_grid1 = pd.DataFrame(predict_dtree, columns = ['DTREE_Prediction'])"
      ]
    },
    {
      "cell_type": "code",
      "execution_count": null,
      "metadata": {
        "colab": {
          "base_uri": "https://localhost:8080/",
          "height": 424
        },
        "id": "uCOMZ-R4mtdp",
        "outputId": "5f378f13-c0c5-41c1-950b-ce488c9cca6a"
      },
      "outputs": [
        {
          "data": {
            "text/html": [
              "\n",
              "  <div id=\"df-e78c6009-03d1-493c-ba0d-948373ece092\">\n",
              "    <div class=\"colab-df-container\">\n",
              "      <div>\n",
              "<style scoped>\n",
              "    .dataframe tbody tr th:only-of-type {\n",
              "        vertical-align: middle;\n",
              "    }\n",
              "\n",
              "    .dataframe tbody tr th {\n",
              "        vertical-align: top;\n",
              "    }\n",
              "\n",
              "    .dataframe thead th {\n",
              "        text-align: right;\n",
              "    }\n",
              "</style>\n",
              "<table border=\"1\" class=\"dataframe\">\n",
              "  <thead>\n",
              "    <tr style=\"text-align: right;\">\n",
              "      <th></th>\n",
              "      <th>DTREE_Prediction</th>\n",
              "    </tr>\n",
              "  </thead>\n",
              "  <tbody>\n",
              "    <tr>\n",
              "      <th>0</th>\n",
              "      <td>0</td>\n",
              "    </tr>\n",
              "    <tr>\n",
              "      <th>1</th>\n",
              "      <td>1</td>\n",
              "    </tr>\n",
              "    <tr>\n",
              "      <th>2</th>\n",
              "      <td>1</td>\n",
              "    </tr>\n",
              "    <tr>\n",
              "      <th>3</th>\n",
              "      <td>1</td>\n",
              "    </tr>\n",
              "    <tr>\n",
              "      <th>4</th>\n",
              "      <td>0</td>\n",
              "    </tr>\n",
              "    <tr>\n",
              "      <th>...</th>\n",
              "      <td>...</td>\n",
              "    </tr>\n",
              "    <tr>\n",
              "      <th>3995</th>\n",
              "      <td>1</td>\n",
              "    </tr>\n",
              "    <tr>\n",
              "      <th>3996</th>\n",
              "      <td>1</td>\n",
              "    </tr>\n",
              "    <tr>\n",
              "      <th>3997</th>\n",
              "      <td>1</td>\n",
              "    </tr>\n",
              "    <tr>\n",
              "      <th>3998</th>\n",
              "      <td>1</td>\n",
              "    </tr>\n",
              "    <tr>\n",
              "      <th>3999</th>\n",
              "      <td>0</td>\n",
              "    </tr>\n",
              "  </tbody>\n",
              "</table>\n",
              "<p>4000 rows × 1 columns</p>\n",
              "</div>\n",
              "      <button class=\"colab-df-convert\" onclick=\"convertToInteractive('df-e78c6009-03d1-493c-ba0d-948373ece092')\"\n",
              "              title=\"Convert this dataframe to an interactive table.\"\n",
              "              style=\"display:none;\">\n",
              "        \n",
              "  <svg xmlns=\"http://www.w3.org/2000/svg\" height=\"24px\"viewBox=\"0 0 24 24\"\n",
              "       width=\"24px\">\n",
              "    <path d=\"M0 0h24v24H0V0z\" fill=\"none\"/>\n",
              "    <path d=\"M18.56 5.44l.94 2.06.94-2.06 2.06-.94-2.06-.94-.94-2.06-.94 2.06-2.06.94zm-11 1L8.5 8.5l.94-2.06 2.06-.94-2.06-.94L8.5 2.5l-.94 2.06-2.06.94zm10 10l.94 2.06.94-2.06 2.06-.94-2.06-.94-.94-2.06-.94 2.06-2.06.94z\"/><path d=\"M17.41 7.96l-1.37-1.37c-.4-.4-.92-.59-1.43-.59-.52 0-1.04.2-1.43.59L10.3 9.45l-7.72 7.72c-.78.78-.78 2.05 0 2.83L4 21.41c.39.39.9.59 1.41.59.51 0 1.02-.2 1.41-.59l7.78-7.78 2.81-2.81c.8-.78.8-2.07 0-2.86zM5.41 20L4 18.59l7.72-7.72 1.47 1.35L5.41 20z\"/>\n",
              "  </svg>\n",
              "      </button>\n",
              "      \n",
              "  <style>\n",
              "    .colab-df-container {\n",
              "      display:flex;\n",
              "      flex-wrap:wrap;\n",
              "      gap: 12px;\n",
              "    }\n",
              "\n",
              "    .colab-df-convert {\n",
              "      background-color: #E8F0FE;\n",
              "      border: none;\n",
              "      border-radius: 50%;\n",
              "      cursor: pointer;\n",
              "      display: none;\n",
              "      fill: #1967D2;\n",
              "      height: 32px;\n",
              "      padding: 0 0 0 0;\n",
              "      width: 32px;\n",
              "    }\n",
              "\n",
              "    .colab-df-convert:hover {\n",
              "      background-color: #E2EBFA;\n",
              "      box-shadow: 0px 1px 2px rgba(60, 64, 67, 0.3), 0px 1px 3px 1px rgba(60, 64, 67, 0.15);\n",
              "      fill: #174EA6;\n",
              "    }\n",
              "\n",
              "    [theme=dark] .colab-df-convert {\n",
              "      background-color: #3B4455;\n",
              "      fill: #D2E3FC;\n",
              "    }\n",
              "\n",
              "    [theme=dark] .colab-df-convert:hover {\n",
              "      background-color: #434B5C;\n",
              "      box-shadow: 0px 1px 3px 1px rgba(0, 0, 0, 0.15);\n",
              "      filter: drop-shadow(0px 1px 2px rgba(0, 0, 0, 0.3));\n",
              "      fill: #FFFFFF;\n",
              "    }\n",
              "  </style>\n",
              "\n",
              "      <script>\n",
              "        const buttonEl =\n",
              "          document.querySelector('#df-e78c6009-03d1-493c-ba0d-948373ece092 button.colab-df-convert');\n",
              "        buttonEl.style.display =\n",
              "          google.colab.kernel.accessAllowed ? 'block' : 'none';\n",
              "\n",
              "        async function convertToInteractive(key) {\n",
              "          const element = document.querySelector('#df-e78c6009-03d1-493c-ba0d-948373ece092');\n",
              "          const dataTable =\n",
              "            await google.colab.kernel.invokeFunction('convertToInteractive',\n",
              "                                                     [key], {});\n",
              "          if (!dataTable) return;\n",
              "\n",
              "          const docLinkHtml = 'Like what you see? Visit the ' +\n",
              "            '<a target=\"_blank\" href=https://colab.research.google.com/notebooks/data_table.ipynb>data table notebook</a>'\n",
              "            + ' to learn more about interactive tables.';\n",
              "          element.innerHTML = '';\n",
              "          dataTable['output_type'] = 'display_data';\n",
              "          await google.colab.output.renderOutput(dataTable, element);\n",
              "          const docLink = document.createElement('div');\n",
              "          docLink.innerHTML = docLinkHtml;\n",
              "          element.appendChild(docLink);\n",
              "        }\n",
              "      </script>\n",
              "    </div>\n",
              "  </div>\n",
              "  "
            ],
            "text/plain": [
              "      DTREE_Prediction\n",
              "0                    0\n",
              "1                    1\n",
              "2                    1\n",
              "3                    1\n",
              "4                    0\n",
              "...                ...\n",
              "3995                 1\n",
              "3996                 1\n",
              "3997                 1\n",
              "3998                 1\n",
              "3999                 0\n",
              "\n",
              "[4000 rows x 1 columns]"
            ]
          },
          "execution_count": 98,
          "metadata": {},
          "output_type": "execute_result"
        }
      ],
      "source": [
        "dtree_grid1"
      ]
    },
    {
      "cell_type": "code",
      "execution_count": null,
      "metadata": {
        "id": "mlMk7X4cAmoq"
      },
      "outputs": [],
      "source": [
        "dtree_grid1['DTREE_Pred'] = np.where(dtree_grid1['DTREE_Prediction'] == target_data['Target'], 'True', 'False')"
      ]
    },
    {
      "cell_type": "code",
      "execution_count": null,
      "metadata": {
        "colab": {
          "base_uri": "https://localhost:8080/"
        },
        "id": "Hwc0cbd0AmnD",
        "outputId": "1c3df58b-7f89-4e6e-d02c-9463e04f8cfe"
      },
      "outputs": [
        {
          "data": {
            "text/plain": [
              "DTREE_Prediction  DTREE_Pred\n",
              "0                 True          1914\n",
              "1                 False         1848\n",
              "                  True           172\n",
              "0                 False           66\n",
              "dtype: int64"
            ]
          },
          "execution_count": 100,
          "metadata": {},
          "output_type": "execute_result"
        }
      ],
      "source": [
        "dtree_grid1.value_counts()"
      ]
    },
    {
      "cell_type": "markdown",
      "metadata": {
        "id": "9M8uyiYP5_KD"
      },
      "source": [
        "**Saving the predictions to an csv file for convenience**"
      ]
    },
    {
      "cell_type": "code",
      "execution_count": null,
      "metadata": {
        "id": "shQfW7sXAmlg"
      },
      "outputs": [],
      "source": [
        "dtree_grid = pd.DataFrame(predict_dtree).to_csv(\"./dtreegrid.csv\")"
      ]
    },
    {
      "cell_type": "code",
      "execution_count": null,
      "metadata": {
        "id": "1NtAC4pTAmj2"
      },
      "outputs": [],
      "source": [
        "dtree_grid"
      ]
    },
    {
      "cell_type": "markdown",
      "metadata": {
        "id": "Nl0tuC9f5I3C"
      },
      "source": [
        "**Random Search**"
      ]
    },
    {
      "cell_type": "code",
      "execution_count": null,
      "metadata": {
        "id": "W3ayD7ZACLbq"
      },
      "outputs": [],
      "source": [
        "dtree_default = DecisionTreeClassifier(random_state=random_seed)\n",
        "# change n_iter to 200_000 for full run\n",
        "best_random_search_model_dtree = RandomizedSearchCV(\n",
        "        estimator=DecisionTreeClassifier(random_state=random_seed),\n",
        "        scoring='recall',\n",
        "        param_distributions=param_grid,\n",
        "        n_iter = 10_000,\n",
        "        cv=10,\n",
        "        verbose=0,\n",
        "        n_jobs = -1\n",
        "    )\n",
        "best_random_search_model_dtree = best_random_search_model_dtree.fit(X_train1, y_train1)"
      ]
    },
    {
      "cell_type": "code",
      "execution_count": null,
      "metadata": {
        "colab": {
          "base_uri": "https://localhost:8080/"
        },
        "id": "YSDJSFrvCLYB",
        "outputId": "6bb98f87-75de-4324-c896-9ad2b3c78835"
      },
      "outputs": [
        {
          "name": "stdout",
          "output_type": "stream",
          "text": [
            "Best parameters found:  {'min_samples_split': 369, 'min_samples_leaf': 71, 'min_impurity_decrease': 0.01, 'max_leaf_nodes': 651, 'max_depth': 5, 'criterion': 'entropy'}\n"
          ]
        }
      ],
      "source": [
        "random_search_best_params = best_random_search_model_dtree.best_params_\n",
        "print('Best parameters found: ', random_search_best_params)"
      ]
    },
    {
      "cell_type": "code",
      "execution_count": null,
      "metadata": {
        "id": "ES-cGE-dEU6Y"
      },
      "outputs": [],
      "source": [
        "prediction2_dtree_random = best_random_search_model_dtree.predict(X_test1)"
      ]
    },
    {
      "cell_type": "code",
      "execution_count": null,
      "metadata": {
        "colab": {
          "base_uri": "https://localhost:8080/"
        },
        "id": "BF2RCebPEksD",
        "outputId": "69258fee-6e80-4748-ca36-a3e73a504eb8"
      },
      "outputs": [
        {
          "name": "stdout",
          "output_type": "stream",
          "text": [
            "              precision    recall  f1-score   support\n",
            "\n",
            "           0       0.73      0.63      0.68      1083\n",
            "           1       0.68      0.77      0.72      1107\n",
            "\n",
            "    accuracy                           0.70      2190\n",
            "   macro avg       0.71      0.70      0.70      2190\n",
            "weighted avg       0.71      0.70      0.70      2190\n",
            "\n"
          ]
        }
      ],
      "source": [
        "print(classification_report(y_test1, prediction2_dtree_random))"
      ]
    },
    {
      "cell_type": "markdown",
      "metadata": {
        "id": "rrJaGfX352cd"
      },
      "source": [
        "**Random Seach Dtree Predictions on the Target Data**"
      ]
    },
    {
      "cell_type": "code",
      "execution_count": null,
      "metadata": {
        "id": "IsRSp8QHEkpv"
      },
      "outputs": [],
      "source": [
        "predict2_dtree_random_test = best_random_search_model_dtree.predict(test_data[col_knn])"
      ]
    },
    {
      "cell_type": "code",
      "execution_count": null,
      "metadata": {
        "colab": {
          "base_uri": "https://localhost:8080/"
        },
        "id": "TXJ-lFFEEkmm",
        "outputId": "4179579e-3ef0-4bce-c55a-38900d753bd9"
      },
      "outputs": [
        {
          "data": {
            "text/plain": [
              "((4000,), (4000, 1))"
            ]
          },
          "execution_count": 110,
          "metadata": {},
          "output_type": "execute_result"
        }
      ],
      "source": [
        "predict2_dtree_random_test.shape,target_data.shape"
      ]
    },
    {
      "cell_type": "code",
      "execution_count": null,
      "metadata": {
        "colab": {
          "base_uri": "https://localhost:8080/"
        },
        "id": "4Q7FdRHKIt_J",
        "outputId": "1374c5fa-8916-4782-aa2c-ccd9f0710c22"
      },
      "outputs": [
        {
          "name": "stdout",
          "output_type": "stream",
          "text": [
            "              precision    recall  f1-score   support\n",
            "\n",
            "           0       0.51      0.97      0.67      1980\n",
            "           1       0.72      0.09      0.15      2020\n",
            "\n",
            "    accuracy                           0.52      4000\n",
            "   macro avg       0.62      0.53      0.41      4000\n",
            "weighted avg       0.62      0.52      0.41      4000\n",
            "\n"
          ]
        }
      ],
      "source": [
        "print(classification_report(predict2_dtree_random_test,target_data))"
      ]
    },
    {
      "cell_type": "code",
      "execution_count": null,
      "metadata": {
        "id": "X7o5IQ6B87n_"
      },
      "outputs": [],
      "source": [
        "cf_dtree = confusion_matrix(predict2_dtree_random_test,target_data)"
      ]
    },
    {
      "cell_type": "markdown",
      "metadata": {
        "id": "wSfqZ2cFLGDh"
      },
      "source": [
        "**TRUE POSITIVE:** 172 Customers are likely to buy an insurance policy and model predicted as customers are likely to buy an insurance policy\n",
        "\n",
        "**TRUE NEGATIVE:** 1914 Customers who are interested in buying a caravan insurance policy, but the model predicted customers are not interested in buying the policy.\n",
        "\n",
        "**FALSE POSITIVE:** 66 Customers who are not interested in buying the policy and model predicted as Customers are interested in buying the policy.\n",
        "\n",
        "**FALSE NEGATIVE:**  1848 Customers who are interested to buy an insurance policy and the model predicted customers do not buy the insurance policy."
      ]
    },
    {
      "cell_type": "code",
      "execution_count": null,
      "metadata": {
        "colab": {
          "base_uri": "https://localhost:8080/",
          "height": 295
        },
        "id": "IGz_aJmo8xAU",
        "outputId": "27831d25-d14f-46e6-f584-455ae1e9928e"
      },
      "outputs": [
        {
          "data": {
            "image/png": "[encoded data removed]",
            "text/plain": [
              "<Figure size 576x288 with 2 Axes>"
            ]
          },
          "metadata": {
            "needs_background": "light"
          },
          "output_type": "display_data"
        }
      ],
      "source": [
        "cm_dtree = pd.DataFrame(cf_dtree, index = ['Buy Policy','Will not buy policy'], columns = ['Buy Policy','Will not buy policy'])\n",
        "\n",
        "#Plotting the confusion matrix\n",
        "plt.figure(figsize=(8,4))\n",
        "sns.heatmap(cm_dtree, annot=True,cbar=True, fmt='g')\n",
        "\n",
        "plt.xlabel('Predicted Values')\n",
        "plt.ylabel('Actual Values')\n",
        "plt.title('Confusion Matrix')\n",
        "plt.show()"
      ]
    },
    {
      "cell_type": "code",
      "execution_count": null,
      "metadata": {
        "id": "VC-WZlrDI7fS"
      },
      "outputs": [],
      "source": [
        "dtree_grid2_random = pd.DataFrame(predict2_dtree_random_test, columns = ['DTREE_Random_Prediction'])"
      ]
    },
    {
      "cell_type": "code",
      "execution_count": null,
      "metadata": {
        "id": "hfh--m0rEejY"
      },
      "outputs": [],
      "source": [
        "dtree_grid2_random['DTREE_Pred'] = np.where(dtree_grid2_random['DTREE_Random_Prediction'] == target_data['Target'], 'True', 'False')"
      ]
    },
    {
      "cell_type": "code",
      "execution_count": null,
      "metadata": {
        "colab": {
          "base_uri": "https://localhost:8080/"
        },
        "id": "Mzk8hXgYEegm",
        "outputId": "295c3f74-847f-4ca0-cf92-d1f7f1f95dee"
      },
      "outputs": [
        {
          "data": {
            "text/plain": [
              "DTREE_Random_Prediction  DTREE_Pred\n",
              "0                        True          1914\n",
              "1                        False         1848\n",
              "                         True           172\n",
              "0                        False           66\n",
              "dtype: int64"
            ]
          },
          "execution_count": 116,
          "metadata": {},
          "output_type": "execute_result"
        }
      ],
      "source": [
        "dtree_grid2_random.value_counts()"
      ]
    },
    {
      "cell_type": "markdown",
      "metadata": {
        "id": "seEN5xuRi8bL"
      },
      "source": [
        "**Partioning Training and Test Data without standardization for boosting algorithms**"
      ]
    },
    {
      "cell_type": "code",
      "execution_count": null,
      "metadata": {
        "id": "BW7g58p2i9W8"
      },
      "outputs": [],
      "source": [
        "X_train2= train_df1[X]\n",
        "y_train2 = train_df1[y]\n",
        "X_test2 = test_df1[X]\n",
        "y_test2 = test_df1[y]"
      ]
    },
    {
      "cell_type": "markdown",
      "metadata": {
        "id": "IWaeNg9D75_K"
      },
      "source": [
        "**Model 4: Random Forest**"
      ]
    },
    {
      "cell_type": "code",
      "execution_count": null,
      "metadata": {
        "colab": {
          "base_uri": "https://localhost:8080/"
        },
        "id": "f0F7QwGhT84v",
        "outputId": "d24e2b65-863d-4f06-9800-cd0e0bf4fa9c"
      },
      "outputs": [
        {
          "data": {
            "text/plain": [
              "RandomForestClassifier(random_state=1)"
            ]
          },
          "execution_count": 85,
          "metadata": {},
          "output_type": "execute_result"
        }
      ],
      "source": [
        "rf1= RandomForestClassifier(random_state=random_seed)\n",
        "rf1.fit(X_train2, y_train2)"
      ]
    },
    {
      "cell_type": "markdown",
      "metadata": {
        "id": "N6Oy5WOvlEcp"
      },
      "source": [
        "**Random Forest Predictions on the target data**"
      ]
    },
    {
      "cell_type": "code",
      "execution_count": null,
      "metadata": {
        "id": "ZfsANx8CUjgJ"
      },
      "outputs": [],
      "source": [
        "rf1_predict = rf1.predict(test_data[col_knn])"
      ]
    },
    {
      "cell_type": "code",
      "execution_count": null,
      "metadata": {
        "colab": {
          "base_uri": "https://localhost:8080/"
        },
        "id": "DveLxU_8kOkb",
        "outputId": "e90e7733-2a83-43b1-c268-4a5c89312572"
      },
      "outputs": [
        {
          "name": "stdout",
          "output_type": "stream",
          "text": [
            "              precision    recall  f1-score   support\n",
            "\n",
            "           0       0.96      0.95      0.95      3822\n",
            "           1       0.13      0.17      0.15       178\n",
            "\n",
            "    accuracy                           0.91      4000\n",
            "   macro avg       0.55      0.56      0.55      4000\n",
            "weighted avg       0.92      0.91      0.92      4000\n",
            "\n"
          ]
        }
      ],
      "source": [
        "print(classification_report(rf1_predict,target_data))"
      ]
    },
    {
      "cell_type": "code",
      "execution_count": null,
      "metadata": {
        "id": "2ZyzzRZtkOoh"
      },
      "outputs": [],
      "source": [
        "cf_rf = confusion_matrix(rf1_predict,target_data)"
      ]
    },
    {
      "cell_type": "markdown",
      "metadata": {
        "id": "Y8RH12I_Lggy"
      },
      "source": [
        "**TRUE POSITIVE:** 31 Customers are likely to buy an insurance policy and model predicted as customers are likely to buy an insurance policy\n",
        "\n",
        "**TRUE NEGATIVE:** 3615 Customers who are interested in buying a caravan insurance policy, but the model predicted customers are not interested in buying the policy.\n",
        "\n",
        "**FALSE POSITIVE:** 207 Customers who are not interested in buying the policy and model predicted as Customers are interested in buying the policy.\n",
        "\n",
        "**FALSE NEGATIVE:**  147 Customers who are interested to buy an insurance policy and the model predicted customers do not buy the insurance policy."
      ]
    },
    {
      "cell_type": "code",
      "execution_count": null,
      "metadata": {
        "colab": {
          "base_uri": "https://localhost:8080/",
          "height": 295
        },
        "id": "B45rAFcGkOr2",
        "outputId": "6959c917-48b6-4cbb-8808-6d5eb900ccd8"
      },
      "outputs": [
        {
          "data": {
            "image/png": "[encoded data removed]",
            "text/plain": [
              "<Figure size 576x288 with 2 Axes>"
            ]
          },
          "metadata": {
            "needs_background": "light"
          },
          "output_type": "display_data"
        }
      ],
      "source": [
        "cm_rf = pd.DataFrame(cf_rf, index = ['Buy Policy','Will not buy policy'], columns = ['Buy Policy','Will not buy policy'])\n",
        "\n",
        "#Plotting the confusion matrix\n",
        "plt.figure(figsize=(8,4))\n",
        "sns.heatmap(cm_rf, annot=True,cbar=True, fmt='g')\n",
        "\n",
        "plt.xlabel('Predicted Values')\n",
        "plt.ylabel('Actual Values')\n",
        "plt.title('Confusion Matrix')\n",
        "plt.show()"
      ]
    },
    {
      "cell_type": "code",
      "execution_count": null,
      "metadata": {
        "id": "5eRLqGtzT9AU"
      },
      "outputs": [],
      "source": [
        "rf1_pr = pd.DataFrame(rf1_predict, columns = ['RF_Prediction'])"
      ]
    },
    {
      "cell_type": "code",
      "execution_count": null,
      "metadata": {
        "id": "Rh7xESmFT9LQ"
      },
      "outputs": [],
      "source": [
        "rf1_pr['RF_Prediction1'] = np.where(rf1_pr['RF_Prediction'] == target_data['Target'], 'True', 'False')"
      ]
    },
    {
      "cell_type": "code",
      "execution_count": null,
      "metadata": {
        "colab": {
          "base_uri": "https://localhost:8080/"
        },
        "id": "hqFfIyAQWHQr",
        "outputId": "16d38900-a6b2-4973-b3c9-64ba34c7e99d"
      },
      "outputs": [
        {
          "data": {
            "text/plain": [
              "RF_Prediction  RF_Prediction1\n",
              "0              True              3615\n",
              "               False              207\n",
              "1              False              147\n",
              "               True                31\n",
              "dtype: int64"
            ]
          },
          "execution_count": 93,
          "metadata": {},
          "output_type": "execute_result"
        }
      ],
      "source": [
        "rf1_pr.value_counts()"
      ]
    },
    {
      "cell_type": "markdown",
      "metadata": {
        "id": "zPOfz-Bzlrvz"
      },
      "source": [
        "**Model 5: Gradient Boosting Classifier using Hyperparameter Tuned (GridSearch)**\n"
      ]
    },
    {
      "cell_type": "code",
      "execution_count": null,
      "metadata": {
        "id": "TCYi4MBDUOi8"
      },
      "outputs": [],
      "source": [
        "learning_rate =  [0.01, 0.1, 1.0]\n",
        "\n",
        "n_estimators = [10,20,50]\n",
        "\n",
        "criterion = ['friedman_mse', 'mse']\n",
        "\n",
        "# Minimum number of samples required to split a node\n",
        "# default is 2\n",
        "min_samples_split = [10,20,30]\n",
        "\n",
        "# Minimum number of samples required at each leaf node\n",
        "# default = 1\n",
        "min_samples_leaf = [2,5,7,11]\n",
        "\n",
        "# Maximum number of levels in tree. If None, then nodes are expanded until all leaves are pure or until all\n",
        "# leaves contain less than min_samples_split samples.\n",
        "# default = None\n",
        "max_depth = [10,90,150]\n",
        "\n",
        "# min_impurity_decrease - A node will be split if this split induces a decrease of the impurity greater than or equal to this value.\n",
        "# default=0.0\n",
        "min_impurity_decrease = [0.0, 0.01, 0.001]\n",
        "\n",
        "# max_leaf_nodes  - Grow trees with max_leaf_nodes in best-first fashion.\n",
        "# If None then unlimited number of leaf nodes.\n",
        "# default=None\n",
        "max_leaf_nodes = [2,10,20]\n",
        "\n",
        "# Create the random grid\n",
        "param_grid_gboost = {\n",
        "                      'n_estimators': n_estimators,\n",
        "                      'criterion': criterion,\n",
        "                      'min_samples_split': min_samples_split,\n",
        "                      'min_samples_leaf': min_samples_leaf,\n",
        "                       'max_depth': max_depth,\n",
        "                     'min_impurity_decrease' : min_impurity_decrease,\n",
        "                      'max_leaf_nodes' : max_leaf_nodes }"
      ]
    },
    {
      "cell_type": "code",
      "execution_count": null,
      "metadata": {
        "id": "rJDgkux8mD5V"
      },
      "outputs": [],
      "source": [
        "best_grid_search_model_gboost = GridSearchCV(estimator=GradientBoostingClassifier(random_state=random_seed),\n",
        "                                    scoring='recall', param_grid=param_grid_gboost, cv=10, verbose=0,  n_jobs = -1)\n",
        "best_grid_search_model_gboost = best_grid_search_model_gboost.fit(X_train2, y_train2)"
      ]
    },
    {
      "cell_type": "code",
      "execution_count": null,
      "metadata": {
        "colab": {
          "base_uri": "https://localhost:8080/"
        },
        "id": "DlUGzA6BmD9X",
        "outputId": "bd5d744b-1776-4671-daa3-1b8b0e8ded6e"
      },
      "outputs": [
        {
          "name": "stdout",
          "output_type": "stream",
          "text": [
            "Best parameters found:  {'criterion': 'friedman_mse', 'max_depth': 90, 'max_leaf_nodes': 20, 'min_impurity_decrease': 0.0, 'min_samples_leaf': 2, 'min_samples_split': 30, 'n_estimators': 50}\n"
          ]
        }
      ],
      "source": [
        "print('Best parameters found: ', best_grid_search_model_gboost.best_params_)"
      ]
    },
    {
      "cell_type": "markdown",
      "metadata": {
        "id": "Kf8FagRYsMpP"
      },
      "source": [
        "**Grid Search Predictions on Target Data**"
      ]
    },
    {
      "cell_type": "code",
      "execution_count": null,
      "metadata": {
        "id": "gKEsxcp8mEAE"
      },
      "outputs": [],
      "source": [
        "predict_gb = best_grid_search_model_gboost.predict(test_data[col_knn])"
      ]
    },
    {
      "cell_type": "code",
      "execution_count": null,
      "metadata": {
        "colab": {
          "base_uri": "https://localhost:8080/"
        },
        "id": "gToCsIK3mECd",
        "outputId": "70036cb2-e1e9-4ae9-e985-32dd5a060613"
      },
      "outputs": [
        {
          "data": {
            "text/plain": [
              "((4000,), (4000, 1))"
            ]
          },
          "execution_count": 101,
          "metadata": {},
          "output_type": "execute_result"
        }
      ],
      "source": [
        "predict_gb.shape,target_data.shape"
      ]
    },
    {
      "cell_type": "code",
      "execution_count": null,
      "metadata": {
        "colab": {
          "base_uri": "https://localhost:8080/"
        },
        "id": "I5GfjLTamEE7",
        "outputId": "c6afe49c-9447-47b0-d476-44e1c0d16877"
      },
      "outputs": [
        {
          "name": "stdout",
          "output_type": "stream",
          "text": [
            "              precision    recall  f1-score   support\n",
            "\n",
            "           0       0.81      0.96      0.88      3158\n",
            "           1       0.46      0.13      0.20       842\n",
            "\n",
            "    accuracy                           0.78      4000\n",
            "   macro avg       0.63      0.54      0.54      4000\n",
            "weighted avg       0.73      0.78      0.73      4000\n",
            "\n"
          ]
        }
      ],
      "source": [
        "print(classification_report(predict_gb,target_data))"
      ]
    },
    {
      "cell_type": "code",
      "execution_count": null,
      "metadata": {
        "id": "DMwfizAyrfa8"
      },
      "outputs": [],
      "source": [
        "cf_gb = confusion_matrix(predict_gb,target_data)"
      ]
    },
    {
      "cell_type": "markdown",
      "metadata": {
        "id": "m8PY5g7_Lrr9"
      },
      "source": [
        "**TRUE POSITIVE:** 109 Customers are likely to buy an insurance policy and model predicted as customers are likely to buy an insurance policy\n",
        "\n",
        "**TRUE NEGATIVE:** 3029 Customers who are interested in buying a caravan insurance policy, but the model predicted customers are not interested in buying the policy.\n",
        "\n",
        "**FALSE POSITIVE:** 129 Customers who are not interested in buying the policy and model predicted as Customers are interested in buying the policy.\n",
        "\n",
        "**FALSE NEGATIVE:**  733 Customers who are interested to buy an insurance policy and the model predicted customers do not buy the insurance policy."
      ]
    },
    {
      "cell_type": "code",
      "execution_count": null,
      "metadata": {
        "colab": {
          "base_uri": "https://localhost:8080/",
          "height": 295
        },
        "id": "CZfkS4rtmlVM",
        "outputId": "b5a7fd47-d836-424d-f74f-20b6f56b83d6"
      },
      "outputs": [
        {
          "data": {
            "image/png": "[encoded data removed]",
            "text/plain": [
              "<Figure size 576x288 with 2 Axes>"
            ]
          },
          "metadata": {
            "needs_background": "light"
          },
          "output_type": "display_data"
        }
      ],
      "source": [
        "cm_gb = pd.DataFrame(cf_gb, index = ['Buy Policy','Will not buy policy'], columns = ['Buy Policy','Will not buy policy'])\n",
        "\n",
        "#Plotting the confusion matrix\n",
        "plt.figure(figsize=(8,4))\n",
        "sns.heatmap(cm_gb, annot=True,cbar=True, fmt='g')\n",
        "\n",
        "plt.xlabel('Predicted Values')\n",
        "plt.ylabel('Actual Values')\n",
        "plt.title('Confusion Matrix')\n",
        "plt.show()"
      ]
    },
    {
      "cell_type": "code",
      "execution_count": null,
      "metadata": {
        "id": "pbH5Dw2xmlMT"
      },
      "outputs": [],
      "source": [
        "gb1 = pd.DataFrame(predict_gb, columns = ['GB_Prediction'])"
      ]
    },
    {
      "cell_type": "code",
      "execution_count": null,
      "metadata": {
        "id": "L_j5P0znn_lh"
      },
      "outputs": [],
      "source": [
        "gb1['GB_Prediction1'] = np.where(gb1['GB_Prediction'] == target_data['Target'], 'True', 'False')"
      ]
    },
    {
      "cell_type": "code",
      "execution_count": null,
      "metadata": {
        "colab": {
          "base_uri": "https://localhost:8080/"
        },
        "id": "9qDWs1Upn_ck",
        "outputId": "f1ea891d-cfca-4940-dfd8-f6893e620b36"
      },
      "outputs": [
        {
          "data": {
            "text/plain": [
              "GB_Prediction  GB_Prediction1\n",
              "0              True              3029\n",
              "1              False              733\n",
              "0              False              129\n",
              "1              True               109\n",
              "dtype: int64"
            ]
          },
          "execution_count": 110,
          "metadata": {},
          "output_type": "execute_result"
        }
      ],
      "source": [
        "gb1.value_counts()"
      ]
    },
    {
      "cell_type": "markdown",
      "metadata": {
        "id": "efuoZGdJvDYE"
      },
      "source": [
        "**Model 6: XGBoost Classifier**"
      ]
    },
    {
      "cell_type": "code",
      "execution_count": null,
      "metadata": {
        "id": "YS22qLP2uAPf"
      },
      "outputs": [],
      "source": [
        "gb_default=XGBClassifier(random_state=random_seed)"
      ]
    },
    {
      "cell_type": "code",
      "execution_count": null,
      "metadata": {
        "colab": {
          "base_uri": "https://localhost:8080/"
        },
        "id": "SJypXtGIuANd",
        "outputId": "380da243-409c-4f15-9ae4-d51618190202"
      },
      "outputs": [
        {
          "data": {
            "text/plain": [
              "XGBClassifier(random_state=1)"
            ]
          },
          "execution_count": 112,
          "metadata": {},
          "output_type": "execute_result"
        }
      ],
      "source": [
        "gb_default.fit(X_train2, y_train2)"
      ]
    },
    {
      "cell_type": "markdown",
      "metadata": {
        "id": "giUrsn1Mv3DY"
      },
      "source": [
        "**Predictions on the Target Data**"
      ]
    },
    {
      "cell_type": "code",
      "execution_count": null,
      "metadata": {
        "id": "R3aKEtS3uAI1"
      },
      "outputs": [],
      "source": [
        "predict_xgb = gb_default.predict(test_data[col_knn])"
      ]
    },
    {
      "cell_type": "code",
      "execution_count": null,
      "metadata": {
        "colab": {
          "base_uri": "https://localhost:8080/"
        },
        "id": "QX0kwE9buAGp",
        "outputId": "e9f15aff-50ba-4973-8ebc-5b26261a3395"
      },
      "outputs": [
        {
          "name": "stdout",
          "output_type": "stream",
          "text": [
            "              precision    recall  f1-score   support\n",
            "\n",
            "           0       0.75      0.96      0.84      2942\n",
            "           1       0.53      0.12      0.20      1058\n",
            "\n",
            "    accuracy                           0.74      4000\n",
            "   macro avg       0.64      0.54      0.52      4000\n",
            "weighted avg       0.69      0.74      0.67      4000\n",
            "\n"
          ]
        }
      ],
      "source": [
        "print(classification_report(predict_xgb,target_data))"
      ]
    },
    {
      "cell_type": "code",
      "execution_count": null,
      "metadata": {
        "id": "dJUOWWspuAEf"
      },
      "outputs": [],
      "source": [
        "cf_xgb = confusion_matrix(predict_xgb,target_data)"
      ]
    },
    {
      "cell_type": "markdown",
      "metadata": {
        "id": "uf8qg5RNL0ET"
      },
      "source": [
        "**TRUE POSITIVE:** 127 Customers are likely to buy an insurance policy and model predicted as customers are likely to buy an insurance policy\n",
        "\n",
        "**TRUE NEGATIVE:** 2831 Customers who are interested in buying a caravan insurance policy, but the model predicted customers are not interested in buying the policy.\n",
        "\n",
        "**FALSE POSITIVE:** 111 Customers who are not interested in buying the policy and model predicted as Customers are interested in buying the policy.\n",
        "\n",
        "**FALSE NEGATIVE:**  931 Customers who are interested to buy an insurance policy and the model predicted customers do not buy the insurance policy."
      ]
    },
    {
      "cell_type": "code",
      "execution_count": null,
      "metadata": {
        "colab": {
          "base_uri": "https://localhost:8080/",
          "height": 295
        },
        "id": "j57UD1bXuACG",
        "outputId": "1352074b-9560-49dc-f8af-a6f68861ad88"
      },
      "outputs": [
        {
          "data": {
            "image/png": "[encoded data removed]",
            "text/plain": [
              "<Figure size 576x288 with 2 Axes>"
            ]
          },
          "metadata": {
            "needs_background": "light"
          },
          "output_type": "display_data"
        }
      ],
      "source": [
        "cm_xgb = pd.DataFrame(cf_xgb, index = ['Buy Policy','Will not buy policy'], columns = ['Buy Policy','Will not buy policy'])\n",
        "\n",
        "#Plotting the confusion matrix\n",
        "plt.figure(figsize=(8,4))\n",
        "sns.heatmap(cm_xgb, annot=True,cbar=True, fmt='g')\n",
        "\n",
        "plt.xlabel('Predicted Values')\n",
        "plt.ylabel('Actual Values')\n",
        "plt.title('Confusion Matrix')\n",
        "plt.show()"
      ]
    },
    {
      "cell_type": "code",
      "execution_count": null,
      "metadata": {
        "id": "4JGrrRiKt__z"
      },
      "outputs": [],
      "source": [
        "xgb1 = pd.DataFrame(predict_xgb, columns = ['XGB_Prediction'])"
      ]
    },
    {
      "cell_type": "code",
      "execution_count": null,
      "metadata": {
        "id": "rQUOsX94t_9J"
      },
      "outputs": [],
      "source": [
        "xgb1['XGB_Prediction1'] = np.where(xgb1['XGB_Prediction'] == target_data['Target'], 'True', 'False')"
      ]
    },
    {
      "cell_type": "code",
      "execution_count": null,
      "metadata": {
        "colab": {
          "base_uri": "https://localhost:8080/"
        },
        "id": "eMDcm9b_vmn1",
        "outputId": "c57eac95-e4a5-4121-f151-1ad4155d0012"
      },
      "outputs": [
        {
          "data": {
            "text/plain": [
              "XGB_Prediction  XGB_Prediction1\n",
              "0               True               2831\n",
              "1               False               931\n",
              "                True                127\n",
              "0               False               111\n",
              "dtype: int64"
            ]
          },
          "execution_count": 120,
          "metadata": {},
          "output_type": "execute_result"
        }
      ],
      "source": [
        "xgb1.value_counts()"
      ]
    },
    {
      "cell_type": "markdown",
      "metadata": {
        "id": "pi2M2IC9Kqoh"
      },
      "source": [
        "### **Analysis and Conclusion**"
      ]
    },
    {
      "cell_type": "markdown",
      "metadata": {
        "id": "r2el8A70_bLY"
      },
      "source": [
        "#### **Summary of evaluation metrics of all models**"
      ]
    },
    {
      "cell_type": "markdown",
      "metadata": {
        "id": "yTNL9OHMESB-"
      },
      "source": [
        "Below are the results generated by all the applied machine learning models((on class-I which we are predicting the customers who are likely to take insurance)).\n",
        "\n",
        "**KNN-K NEAREST NEIGHBOUR**(Hyperparameter Tuning - Grid Search)\n",
        "\n",
        "      a.Accuracy-  46%\n",
        "      b.Recall Score- 8%\n",
        "      c.Precision Score- 71%\n",
        "      d.F1 Score- 14%\n",
        "      e.Predicted customers who are likely to purchase insurance policy - 170\n",
        "\n",
        "\n",
        "\n",
        "**Naive Bayes**\n",
        "\n",
        "      a.Accuracy- 16%\n",
        "      b.Recall Score- 6%\n",
        "      c.Precision Score- 93%\n",
        "      d.F1 Score- 12%\n",
        "      e.Predicted customers who are likely to purchase insurance policy - 222\n",
        "\n",
        "\n",
        "**Decision Tree classifer**(Hyperparameter Tuning - Grid Search)   \n",
        "        \n",
        "      a.Accuracy- 52%\n",
        "      b.Recall Score- 9%\n",
        "      c.Precision Score- 72%\n",
        "      d.F1 Score- 15%\n",
        "      e.Predicted customers who are likely to purchase insurance policy - 172\n",
        "\n",
        "**Random Forest classifer**\n",
        "\n",
        "      a.Accuracy- 91%\n",
        "      b.Recall Score- 17%\n",
        "      c.Precision Score- 13%\n",
        "      d.F1 Score- 15%\n",
        "      e.Predicted customers who are likely to purchase insurance policy - 31\n",
        "\n",
        "**Gradient Boosting classifer** (Hyperparameter Tuning - Grid Search)\n",
        "\n",
        "      a.Accuracy- 78%\n",
        "      b.Recall Score- 13%\n",
        "      c.Precision Score- 46%\n",
        "      d.F1 Score- 20%\n",
        "      e.Predicted customers who are likely to purchase insurance policy - 109\n",
        "\n",
        "**XG-BOOST classifer**\n",
        "\n",
        "      a.Accuracy- 74%\n",
        "      b.Recall Score- 12%\n",
        "      c.Precision Score- 53%\n",
        "      d.F1 Score- 20%\n",
        "      e.Predicted customers who are likely to purchase insurance policy - 127\n",
        "\n",
        "**Model Consideration using metrics** -   \n",
        "\n",
        "**False Positive**:\n",
        "Here the customers are not interested in buying the insurance policy, but the model predicted as customers are interested in buying the policy.\n",
        "\n",
        "Huge investments are involved in promoting insurance company policies using email marketing. The marketing teams will target customers who are not really interested in buying the policy, ultimately leading to a waste of both time and money.  \n",
        "\n",
        "**False Negative**:\n",
        "Here the customers are interested to buy insurance policies, but the model predicted customers do not buy the insurance policy.\n",
        "\n",
        "As a result, the insurance company suffers loss because our model is unable to predict the set of customers who are interested and will eventually lose more of their customers.\n",
        "\n",
        "In order to maintain customer advocacy and curb losses, we prefer false negatives over false positives.\n",
        "\n",
        "As False positives have less loss when compared with False Negatives, we will use **Recall** as our evaluation metric.  \n",
        "\n",
        "**Note** -  We can consider the model with good recall value as the best fit for our data set selected. In this case, the best model is Naive Bayes Classifier\n",
        "\n",
        "Based on the above values, we can say that the order of number of predicting customers who are interested in purchasing a policy correctly  is as follows -\n",
        "\n",
        "Naive Bayes > Decision Tree classifer > KNN-K Nearest Neighbour > XG-BOOST classifer > Gradient Boosting classifer > Random Forest classifer\n",
        "\n",
        "\n",
        "Based on various models that we have applied, we consider Naive Bayes Model as the best model as it was able to predict 222 out of 238 customer instances who tend to buy caravan policy from our test set."
      ]
    },
    {
      "cell_type": "markdown",
      "metadata": {
        "id": "ReUn-eCzF1Gs"
      },
      "source": [
        "In our analysis of data set, we observed there are 86 attributes. In order to understand more about the features, we have applied corelelation matrix on the dataset. We know that in the corelation matrix, if the values are either closer to +1 or -1, we can consider them to have a significant impact on our target variable. Therefore, based on the correlation matrix, we have considered 17 out of 86 features for our analysis.\n",
        "\n",
        "**Findings based on research** -   \n",
        "Our Model describes a typical caravan insurance policy buyer as:\n",
        "1. Customers who purchase more fire policies tend to contribute more towards buying caravan insurance\n",
        "2. Customers whose avg no of houses is less than 2 tend to contribute more towards buying caravan insurance\n",
        "3. Customers whose income is less than 30,000$ and live in rented house tend to contribute more towards buying caravan insurance\n",
        "4. Customers who purchased more no of car policies tend to contribute more towards buying caravan insurance"
      ]
    }
  ],
  "metadata": {
    "accelerator": "TPU",
    "colab": {
      "collapsed_sections": [
        "5cq62nLdeo2c",
        "rdij4uWLpKez",
        "DTv0zxKXpRXQ",
        "cFShQXooqDMU",
        "-b-7T_njqIWd",
        "sSglK8Y2qTsG",
        "PiMBwYErxUi1",
        "_4J-NkTpNx4g",
        "C3rFFIDcfjfZ",
        "pHyDOoe4yIPU",
        "bcNvvrGkel9z",
        "fIkLNP4YGYLn",
        "CLKzGT6XGAfz",
        "dGazq1N3GVLI",
        "yqSlbjQYGmlN",
        "4e-R1ExIHa4i",
        "-h60oGKxzMKj",
        "WDTOF09Gf9bW",
        "cwWC21X6vflf",
        "hWd6acW8cPt_"
      ],
      "machine_shape": "hm",
      "provenance": []
    },
    "gpuClass": "standard",
    "kernelspec": {
      "display_name": "Python 3",
      "name": "python3"
    },
    "language_info": {
      "name": "python"
    }
  },
  "nbformat": 4,
  "nbformat_minor": 0
}
